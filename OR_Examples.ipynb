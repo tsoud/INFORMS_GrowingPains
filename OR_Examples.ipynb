{
 "cells": [
  {
   "cell_type": "markdown",
   "metadata": {},
   "source": [
    "<br><br><center><b><span style='font-family: \"Manjari\"; font-size:48px; color:#4285F4'>Google OR-Tools</span></b></center>"
   ]
  },
  {
   "cell_type": "markdown",
   "metadata": {},
   "source": [
    "---"
   ]
  },
  {
   "cell_type": "markdown",
   "metadata": {},
   "source": [
    "<h4><b>Import libraries</b></h4>"
   ]
  },
  {
   "cell_type": "code",
   "execution_count": 1,
   "metadata": {},
   "outputs": [],
   "source": [
    "from __future__ import print_function\n",
    "\n",
    "# Standard libraries\n",
    "import os\n",
    "import random\n",
    "import math\n",
    "from itertools import product, permutations, combinations\n",
    "from collections import Counter, namedtuple, defaultdict\n",
    "\n",
    "# Common 3rd party libraries\n",
    "import numpy as np\n",
    "import pandas as pd\n",
    "import matplotlib.pyplot as plt\n",
    "\n",
    "# Optimization libraries and solvers\n",
    "import ortools"
   ]
  },
  {
   "cell_type": "markdown",
   "metadata": {},
   "source": [
    "The following examples are from the [OR-Tools tutorials](https://developers.google.com/optimization/introduction/get_started)."
   ]
  },
  {
   "cell_type": "markdown",
   "metadata": {},
   "source": [
    "---"
   ]
  },
  {
   "cell_type": "markdown",
   "metadata": {},
   "source": [
    "<br><h4><u>I - Simple LP Example</u></h4>"
   ]
  },
  {
   "cell_type": "markdown",
   "metadata": {},
   "source": [
    "$$\n",
    "\\begin{align*}\n",
    "\\max_{x} \\hspace{4em} 3x_1 + x_2 &\\\\[5pt]\n",
    "s.t. \\hspace{3em} 0 \\le x_1 \\le 1 & \\\\[5pt]\n",
    "0 \\le x_2 \\le 2 & \\\\[5pt]\n",
    "x_1 + x_2 \\le 2 &\n",
    "\\end{align*}\n",
    "$$\n",
    "\n",
    "<br>"
   ]
  },
  {
   "cell_type": "code",
   "execution_count": 2,
   "metadata": {},
   "outputs": [],
   "source": [
    "from ortools.linear_solver import pywraplp"
   ]
  },
  {
   "cell_type": "markdown",
   "metadata": {},
   "source": [
    "<br> Declare the solver. `GLOP` is Google's own numeric linear solver. Other solvers can be used as well by declaring them. The list of options shows the many options available:"
   ]
  },
  {
   "cell_type": "code",
   "execution_count": 3,
   "metadata": {},
   "outputs": [],
   "source": [
    "# Create the linear solver with the GLOP backend.\n",
    "solver = pywraplp.Solver.CreateSolver('GLOP')"
   ]
  },
  {
   "cell_type": "code",
   "execution_count": 4,
   "metadata": {
    "scrolled": true,
    "tags": []
   },
   "outputs": [
    {
     "name": "stdout",
     "output_type": "stream",
     "text": [
      "ABNORMAL\n",
      "AT_LOWER_BOUND\n",
      "AT_UPPER_BOUND\n",
      "Add\n",
      "BASIC\n",
      "BOP_INTEGER_PROGRAMMING\n",
      "BoolVar\n",
      "CBC_MIXED_INTEGER_PROGRAMMING\n",
      "CLP_LINEAR_PROGRAMMING\n",
      "CPLEX_LINEAR_PROGRAMMING\n",
      "CPLEX_MIXED_INTEGER_PROGRAMMING\n",
      "Clear\n",
      "ComputeConstraintActivities\n",
      "ComputeExactConditionNumber\n",
      "Constraint\n",
      "CreateSolver\n",
      "EnableOutput\n",
      "ExportModelAsLpFormat\n",
      "ExportModelAsMpsFormat\n",
      "ExportModelToProto\n",
      "FEASIBLE\n",
      "FIXED_VALUE\n",
      "FREE\n",
      "FillSolutionResponseProto\n",
      "GLOP_LINEAR_PROGRAMMING\n",
      "GLPK_LINEAR_PROGRAMMING\n",
      "GLPK_MIXED_INTEGER_PROGRAMMING\n",
      "GUROBI_LINEAR_PROGRAMMING\n",
      "GUROBI_MIXED_INTEGER_PROGRAMMING\n",
      "INFEASIBLE\n",
      "Infinity\n",
      "IntVar\n",
      "InterruptSolve\n",
      "Iterations\n",
      "LoadModelFromProto\n",
      "LoadModelFromProtoWithUniqueNamesOrDie\n",
      "LoadSolutionFromProto\n",
      "LookupConstraint\n",
      "LookupVariable\n",
      "Maximize\n",
      "Minimize\n",
      "NOT_SOLVED\n",
      "NextSolution\n",
      "NumConstraints\n",
      "NumVar\n",
      "NumVariables\n",
      "OPTIMAL\n",
      "Objective\n",
      "RowConstraint\n",
      "SAT_INTEGER_PROGRAMMING\n",
      "SCIP_MIXED_INTEGER_PROGRAMMING\n",
      "SetHint\n",
      "SetNumThreads\n",
      "SetSolverSpecificParametersAsString\n",
      "SetTimeLimit\n",
      "Solve\n",
      "SolveWithProto\n",
      "Sum\n",
      "SupportsProblemType\n",
      "SuppressOutput\n",
      "UNBOUNDED\n",
      "Var\n",
      "VerifySolution\n",
      "WallTime\n",
      "XPRESS_LINEAR_PROGRAMMING\n",
      "XPRESS_MIXED_INTEGER_PROGRAMMING\n",
      "constraint\n",
      "constraints\n",
      "infinity\n",
      "iterations\n",
      "nodes\n",
      "set_time_limit\n",
      "this\n",
      "thisown\n",
      "variable\n",
      "variables\n",
      "wall_time\n"
     ]
    }
   ],
   "source": [
    "solver_info = [print(i) for i in dir(solver) if not i.endswith('__')]"
   ]
  },
  {
   "cell_type": "markdown",
   "metadata": {},
   "source": [
    "<br> Define the variables:"
   ]
  },
  {
   "cell_type": "code",
   "execution_count": 5,
   "metadata": {
    "tags": []
   },
   "outputs": [
    {
     "name": "stdout",
     "output_type": "stream",
     "text": [
      "Number of variables = 2\n"
     ]
    }
   ],
   "source": [
    "# Create the variables x_1 and x_2.\n",
    "x1 = solver.NumVar(0, 1, 'x_1')  # NumVar() creates continuous variables\n",
    "x2 = solver.NumVar(0, 2, 'x_2')\n",
    "\n",
    "print('Number of variables =', solver.NumVariables())"
   ]
  },
  {
   "cell_type": "markdown",
   "metadata": {},
   "source": [
    "<br> Define the constraints:"
   ]
  },
  {
   "cell_type": "code",
   "execution_count": 6,
   "metadata": {
    "tags": []
   },
   "outputs": [
    {
     "name": "stdout",
     "output_type": "stream",
     "text": [
      "Number of constraints = 1\n"
     ]
    }
   ],
   "source": [
    "# Create a linear constraint, 0 <= x_1 + x_2 <= 2.\n",
    "ct = solver.Constraint(0, 2, 'ct')\n",
    "ct.SetCoefficient(x1, 1)\n",
    "ct.SetCoefficient(x2, 1)\n",
    "# SetCoefficient() gives the coefficient of each variable in the constraint\n",
    "# e.g. if the constraint was 0 <= 2x_1 - x_2 <= 2, then we would use:\n",
    "# ct.SetCoefficient(x1, 2)\n",
    "# ct.SetCoefficient(x2, -1)\n",
    "\n",
    "print('Number of constraints =', solver.NumConstraints())"
   ]
  },
  {
   "cell_type": "markdown",
   "metadata": {},
   "source": [
    "<br> Define the objective:"
   ]
  },
  {
   "cell_type": "code",
   "execution_count": 7,
   "metadata": {},
   "outputs": [],
   "source": [
    "# Create the objective function, 3 * x_1 + x_2.\n",
    "objective = solver.Objective()\n",
    "objective.SetCoefficient(x1, 3)\n",
    "objective.SetCoefficient(x2, 1)\n",
    "objective.SetMaximization()  # --> tells the solver this is a maximization problem"
   ]
  },
  {
   "cell_type": "markdown",
   "metadata": {},
   "source": [
    "<br> Run the solver:"
   ]
  },
  {
   "cell_type": "code",
   "execution_count": 8,
   "metadata": {
    "tags": []
   },
   "outputs": [
    {
     "name": "stdout",
     "output_type": "stream",
     "text": [
      "Solution:\n",
      "Objective value = 4.0\n",
      "x = 1.0\n",
      "y = 1.0\n"
     ]
    }
   ],
   "source": [
    "solver.Solve()\n",
    "print('Solution:')\n",
    "print('Objective value =', objective.Value())\n",
    "print('x =', x1.solution_value())\n",
    "print('y =', x2.solution_value())"
   ]
  },
  {
   "cell_type": "markdown",
   "metadata": {},
   "source": [
    "---"
   ]
  },
  {
   "cell_type": "markdown",
   "metadata": {},
   "source": [
    "<br><h4><u>II - MIP Example</u></h4>"
   ]
  },
  {
   "cell_type": "markdown",
   "metadata": {},
   "source": [
    "$$\n",
    "\\begin{align*}\n",
    "\\max \\hspace{4em} x + 10y & \\\\[10pt]\n",
    "\\text{s.t.} \\hspace{4em} x + 7 y & \\le 17.5 \\\\[5pt]\n",
    "x & \\le 3.5 \\\\[5pt]\n",
    "x & \\ge 0 \\\\[5pt]\n",
    "y & \\ge 0 \\\\[5pt]\n",
    "x,\\, y \\hspace{0.5em} & \\text{integers} \n",
    "\\end{align*}\n",
    "$$\n",
    "\n",
    "<br>"
   ]
  },
  {
   "cell_type": "code",
   "execution_count": 9,
   "metadata": {},
   "outputs": [],
   "source": [
    "# from __future__ import print_function\n",
    "# from ortools.linear_solver import pywraplp"
   ]
  },
  {
   "cell_type": "markdown",
   "metadata": {},
   "source": [
    "<br> Different solvers are available for MIP problems. `CBC` is the well-known [COIN-OR Branch and Cut](https://github.com/coin-or/Cbc) solver and `SCIP` is [another](https://www.scipopt.org/) popular solver for MIP problems. <br><i><span style='color:red'>Note:</span> `GLOP` solver is for standard LP problems. If it is chosen, the problem will be solved as a standard LP problem even if the variables are declared as integers.</i>"
   ]
  },
  {
   "cell_type": "code",
   "execution_count": 10,
   "metadata": {},
   "outputs": [],
   "source": [
    "# Create the mip solver with the CBC or SCIP backend.\n",
    "solver = pywraplp.Solver.CreateSolver('CBC')\n",
    "# solver = pywraplp.Solver.CreateSolver('SCIP')\n",
    "# solver = pywraplp.Solver.CreateSolver('GLOP')"
   ]
  },
  {
   "cell_type": "code",
   "execution_count": 11,
   "metadata": {
    "tags": []
   },
   "outputs": [
    {
     "name": "stdout",
     "output_type": "stream",
     "text": [
      "Number of variables = 2\n"
     ]
    }
   ],
   "source": [
    "infinity = solver.infinity()  # ? guess this is to instantiate inf as a variable\n",
    "# x and y are integer non-negative variables.\n",
    "x = solver.IntVar(0.0, infinity, 'x')  # --> IntVar() specifies int variables\n",
    "y = solver.IntVar(0.0, infinity, 'y')\n",
    "\n",
    "print('Number of variables =', solver.NumVariables())"
   ]
  },
  {
   "cell_type": "code",
   "execution_count": 12,
   "metadata": {
    "tags": []
   },
   "outputs": [
    {
     "name": "stdout",
     "output_type": "stream",
     "text": [
      "Number of constraints = 2\n"
     ]
    }
   ],
   "source": [
    "# Add() is used to add constraints\n",
    "\n",
    "# x + 7 * y <= 17.5.\n",
    "solver.Add(x + 7 * y <= 17.5)\n",
    "\n",
    "# x <= 3.5.\n",
    "solver.Add(x <= 3.5)\n",
    "\n",
    "print('Number of constraints =', solver.NumConstraints())"
   ]
  },
  {
   "cell_type": "code",
   "execution_count": 13,
   "metadata": {},
   "outputs": [],
   "source": [
    "# Maximize x + 10 * y.\n",
    "solver.Maximize(x + 10 * y)"
   ]
  },
  {
   "cell_type": "code",
   "execution_count": 14,
   "metadata": {},
   "outputs": [],
   "source": [
    "# Call the solver and assign it to a variable\n",
    "status = solver.Solve()"
   ]
  },
  {
   "cell_type": "markdown",
   "metadata": {},
   "source": [
    "<br> With the solver assigned to a variable it can be used to provide more information:"
   ]
  },
  {
   "cell_type": "code",
   "execution_count": 15,
   "metadata": {
    "tags": []
   },
   "outputs": [
    {
     "name": "stdout",
     "output_type": "stream",
     "text": [
      "Solution:\n",
      "Objective value = 23.0\n",
      "x = 3.0\n",
      "y = 2.0\n"
     ]
    }
   ],
   "source": [
    "if status == pywraplp.Solver.OPTIMAL:\n",
    "    print('Solution:')\n",
    "    print('Objective value =', solver.Objective().Value())\n",
    "    print('x =', x.solution_value())\n",
    "    print('y =', y.solution_value())\n",
    "else:\n",
    "    print('The problem does not have an optimal solution.')"
   ]
  },
  {
   "cell_type": "markdown",
   "metadata": {},
   "source": [
    "---"
   ]
  },
  {
   "cell_type": "markdown",
   "metadata": {},
   "source": [
    "<br><h4><u>III - MIP Example with Arrays</u></h4>"
   ]
  },
  {
   "cell_type": "markdown",
   "metadata": {},
   "source": [
    "$$\n",
    "\\begin{align*}\n",
    "\\max_{x} \\hspace{4em} 7x_1 + 8x_2 + 2x_3 + 9x_4 + 6x_5 & \\\\[10pt]\n",
    "\\text{s.t.} \\hspace{4em} 5x_1 + 7x_2 + 9x_3 + 2x_4 + 1x_5 & \\le 250 \\\\[5pt]\n",
    "18x_1 + 4x_2 - 9x_3 + 10x_4 + 12x_5 & \\le 285 \\\\[5pt]\n",
    "4x_1 + 7x_2 + 3x_3 + 8x_4 + 5x_5 & \\le 211 \\\\[5pt]\n",
    "5x_1 + 13x_2 + 16x_3 + 3x_4 - 7x_5 & \\le 315 \\\\[5pt]\n",
    "x_1, x_2\\, \\dots x_5 \\hspace{0.5em} & \\ge 0 \\\\[5pt]\n",
    "x_1, x_2\\, \\dots x_5 \\hspace{0.5em} & \\text{integers} \n",
    "\\end{align*}\n",
    "$$\n",
    "\n",
    "<br>"
   ]
  },
  {
   "cell_type": "code",
   "execution_count": 16,
   "metadata": {},
   "outputs": [],
   "source": [
    "# Create the mip solver with the CBC or SCIP backend.\n",
    "solver = pywraplp.Solver.CreateSolver('CBC')\n",
    "# solver = pywraplp.Solver.CreateSolver('mip_program_with_arrays', 'SCIP')"
   ]
  },
  {
   "cell_type": "markdown",
   "metadata": {},
   "source": [
    "<br> A `dict` is convenient for storing array values. This `data_model` format is used throughout and is very helpful for storing the model inputs."
   ]
  },
  {
   "cell_type": "code",
   "execution_count": 17,
   "metadata": {},
   "outputs": [],
   "source": [
    "def create_data_model():\n",
    "    data = dict()\n",
    "    data['constraint_coeffs'] = [[5, 7, 9, 2, 1], \n",
    "                                 [18, 4, -9, 10, 12], \n",
    "                                 [4, 7, 3, 8, 5], \n",
    "                                 [5, 13, 16, 3, -7] \n",
    "                                ]\n",
    "    data['upper_bounds'] = [250, 285, 211, 315]\n",
    "    data['obj_coeffs'] = [7, 8, 2, 9, 6]\n",
    "    data['num_vars'] = 5\n",
    "    data['num_constraints'] = 4\n",
    "    return data\n",
    "\n",
    "data = create_data_model()"
   ]
  },
  {
   "cell_type": "code",
   "execution_count": 18,
   "metadata": {
    "tags": []
   },
   "outputs": [
    {
     "name": "stdout",
     "output_type": "stream",
     "text": [
      "Number of variables = 5\n"
     ]
    }
   ],
   "source": [
    "infinity = solver.infinity()\n",
    "\n",
    "x = dict()\n",
    "for j in range(data['num_vars']):\n",
    "    x[j] = solver.IntVar(0, infinity, f'x[{j}]')\n",
    "    \n",
    "print('Number of variables =', solver.NumVariables())"
   ]
  },
  {
   "cell_type": "code",
   "execution_count": 19,
   "metadata": {},
   "outputs": [
    {
     "data": {
      "text/plain": [
       "{0: x[0], 1: x[1], 2: x[2], 3: x[3], 4: x[4]}"
      ]
     },
     "execution_count": 19,
     "metadata": {},
     "output_type": "execute_result"
    }
   ],
   "source": [
    "x"
   ]
  },
  {
   "cell_type": "code",
   "execution_count": 20,
   "metadata": {
    "tags": []
   },
   "outputs": [
    {
     "name": "stdout",
     "output_type": "stream",
     "text": [
      "Number of constraints = 4\n"
     ]
    }
   ],
   "source": [
    "for i in range(data['num_constraints']):\n",
    "    constraint = solver.RowConstraint(0, data['upper_bounds'][i], '')\n",
    "    for j in range(data['num_vars']):\n",
    "        constraint.SetCoefficient(x[j], data['constraint_coeffs'][i][j])\n",
    "\n",
    "print('Number of constraints =', solver.NumConstraints())\n",
    "\n",
    "# for i in range(data['num_constraints']):\n",
    "#     constraint_expr = [data['constraint_coeffs'][i][j] * x[j] for j in range(data['num_vars'])]\n",
    "#     solver.Add(sum(constraint_expr) <= data['bounds'][i])"
   ]
  },
  {
   "cell_type": "code",
   "execution_count": 21,
   "metadata": {},
   "outputs": [],
   "source": [
    "objective = solver.Objective()\n",
    "\n",
    "for j in range(data['num_vars']):\n",
    "    objective.SetCoefficient(x[j], data['obj_coeffs'][j])\n",
    "    \n",
    "objective.SetMaximization()\n",
    "\n",
    "# obj_expr = [data['obj_coeffs'][j] * x[j] for j in range(data['num_vars'])]\n",
    "# solver.Maximize(solver.Sum(obj_expr))"
   ]
  },
  {
   "cell_type": "code",
   "execution_count": 22,
   "metadata": {},
   "outputs": [],
   "source": [
    "time_begin = solver.wall_time()\n",
    "status = solver.Solve()\n",
    "time_end = solver.wall_time()\n",
    "solution_time = time_end - time_begin"
   ]
  },
  {
   "cell_type": "code",
   "execution_count": 23,
   "metadata": {
    "tags": []
   },
   "outputs": [
    {
     "name": "stdout",
     "output_type": "stream",
     "text": [
      "Objective value = 260.0\n",
      "x[0]  =  10.0\n",
      "x[1]  =  16.0\n",
      "x[2]  =  4.0\n",
      "x[3]  =  4.0\n",
      "x[4]  =  3.0\n",
      "\n",
      "Problem solved in 17 milliseconds\n",
      "Problem solved in 315 iterations\n",
      "Problem solved in 13 branch-and-bound nodes\n"
     ]
    }
   ],
   "source": [
    "if status == pywraplp.Solver.OPTIMAL:\n",
    "    print('Objective value =', solver.Objective().Value())\n",
    "    for j in range(data['num_vars']):\n",
    "        print(x[j].name(), ' = ', x[j].solution_value())\n",
    "    print()\n",
    "    print(f'Problem solved in {solution_time} milliseconds')\n",
    "    print(f'Problem solved in {solver.iterations()} iterations')\n",
    "    print(f'Problem solved in {solver.nodes()} branch-and-bound nodes')\n",
    "\n",
    "else:\n",
    "    print('The problem does not have an optimal solution.')"
   ]
  },
  {
   "cell_type": "markdown",
   "metadata": {},
   "source": [
    "---"
   ]
  },
  {
   "cell_type": "markdown",
   "metadata": {},
   "source": [
    "<br> <i>The following is not in the tutorials</i>. This is just another way of solving the above problem but in a more compact, Python-based approach:"
   ]
  },
  {
   "cell_type": "markdown",
   "metadata": {},
   "source": [
    "$$\n",
    "\\begin{align*}\n",
    "\\max_{x} \\hspace{4em} 7x_1 + 8x_2 + 2x_3 + 9x_4 + 6x_5 & \\\\[10pt]\n",
    "\\text{s.t.} \\hspace{4em} 5x_1 + 7x_2 + 9x_3 + 2x_4 + 1x_5 & \\le 250 \\\\[5pt]\n",
    "18x_1 + 4x_2 - 9x_3 + 10x_4 + 12x_5 & \\le 285 \\\\[5pt]\n",
    "4x_1 + 7x_2 + 3x_3 + 8x_4 + 5x_5 & \\le 211 \\\\[5pt]\n",
    "5x_1 + 13x_2 + 16x_3 + 3x_4 - 7x_5 & \\le 315 \\\\[5pt]\n",
    "x_1, x_2\\, \\dots x_5 \\hspace{0.5em} & \\ge 0 \\\\[5pt]\n",
    "x_1, x_2\\, \\dots x_5 \\hspace{0.5em} & \\text{integers} \n",
    "\\end{align*}\n",
    "$$\n",
    "\n",
    "<br>"
   ]
  },
  {
   "cell_type": "code",
   "execution_count": 24,
   "metadata": {},
   "outputs": [],
   "source": [
    "# Create the mip solver with the CBC or SCIP backend.\n",
    "solver = pywraplp.Solver.CreateSolver('CBC')\n",
    "# solver = pywraplp.Solver.CreateSolver('mip_program_with_arrays', 'SCIP')"
   ]
  },
  {
   "cell_type": "markdown",
   "metadata": {},
   "source": [
    "<br> Replace lists in the `data` dictionary with Numpy arrays:"
   ]
  },
  {
   "cell_type": "code",
   "execution_count": 25,
   "metadata": {},
   "outputs": [],
   "source": [
    "def data_model():\n",
    "    data = dict()\n",
    "    data['constraint_coeffs'] = np.array([[5, 7, 9, 2, 1], \n",
    "                                          [18, 4, -9, 10, 12], \n",
    "                                          [4, 7, 3, 8, 5], \n",
    "                                          [5, 13, 16, 3, -7] \n",
    "                                         ])\n",
    "    data['upper_bounds'] = np.array([250, 285, 211, 315])\n",
    "    data['obj_coeffs'] = np.array([7, 8, 2, 9, 6])\n",
    "    data['num_vars'] = data['constraint_coeffs'].shape[1]  # no. of columns in constraints\n",
    "    data['num_constraints'] = data['constraint_coeffs'].shape[0]  # no. of rows\n",
    "    return data\n",
    "\n",
    "data = data_model()"
   ]
  },
  {
   "cell_type": "markdown",
   "metadata": {},
   "source": [
    "<br> Using a dictionary as in the original tutorial to store $x_i$ variables seems unnecessary, so use an array instead. The nested `for` loops can be replaced with a dot product which is not only more succinct, but also true to the canonical form of optimization and quicker to process."
   ]
  },
  {
   "cell_type": "code",
   "execution_count": 26,
   "metadata": {
    "tags": []
   },
   "outputs": [
    {
     "name": "stdout",
     "output_type": "stream",
     "text": [
      "Number of variables = 5\n",
      "Number of constraints = 4\n"
     ]
    }
   ],
   "source": [
    "# define infinity value\n",
    "infinity = solver.infinity()\n",
    "# define constraint relationships\n",
    "x = np.array([solver.IntVar(0, infinity, f'x[{i}]') for i in range(data.get('num_vars')) ])\n",
    "constraint_eqns = np.dot(data.get('constraint_coeffs'), x)\n",
    "for i in range(constraint_eqns.shape[0]):\n",
    "    solver.Add(constraint_eqns[i] <= data.get('upper_bounds')[i])\n",
    "\n",
    "print('Number of variables =', solver.NumVariables())\n",
    "print('Number of constraints =', solver.NumConstraints())"
   ]
  },
  {
   "cell_type": "markdown",
   "metadata": {},
   "source": [
    "<br> The above applies for defining the objective as well:"
   ]
  },
  {
   "cell_type": "code",
   "execution_count": 27,
   "metadata": {},
   "outputs": [],
   "source": [
    "objective_fn = np.dot(data.get('obj_coeffs'), x)\n",
    "solver.Maximize(objective_fn)"
   ]
  },
  {
   "cell_type": "markdown",
   "metadata": {},
   "source": [
    "<br> The rest is identical to the previous approach:"
   ]
  },
  {
   "cell_type": "code",
   "execution_count": 28,
   "metadata": {},
   "outputs": [],
   "source": [
    "time_begin = solver.wall_time()\n",
    "status = solver.Solve()\n",
    "time_end = solver.wall_time()\n",
    "solution_time = time_end - time_begin"
   ]
  },
  {
   "cell_type": "code",
   "execution_count": 29,
   "metadata": {
    "tags": []
   },
   "outputs": [
    {
     "name": "stdout",
     "output_type": "stream",
     "text": [
      "Objective value = 260.0\n",
      "x[0]  =  10.0\n",
      "x[1]  =  16.0\n",
      "x[2]  =  4.0\n",
      "x[3]  =  4.0\n",
      "x[4]  =  3.0\n",
      "\n",
      "Problem solved in 24 milliseconds\n",
      "Problem solved in 344 iterations\n",
      "Problem solved in 19 branch-and-bound nodes\n"
     ]
    }
   ],
   "source": [
    "if status == pywraplp.Solver.OPTIMAL:\n",
    "    print('Objective value =', solver.Objective().Value())\n",
    "    for i in range(data['num_vars']):\n",
    "        print(x[i].name(), ' = ', x[i].solution_value())\n",
    "    print()\n",
    "    print(f'Problem solved in {solution_time} milliseconds')\n",
    "    print(f'Problem solved in {solver.iterations()} iterations')\n",
    "    print(f'Problem solved in {solver.nodes()} branch-and-bound nodes')\n",
    "\n",
    "else:\n",
    "    print('The problem does not have an optimal solution.')"
   ]
  },
  {
   "cell_type": "markdown",
   "metadata": {},
   "source": [
    "---"
   ]
  },
  {
   "cell_type": "markdown",
   "metadata": {},
   "source": [
    "<br><h4><u>IV - Constraint Programming Example</u></h4>"
   ]
  },
  {
   "cell_type": "markdown",
   "metadata": {},
   "source": [
    "Constraint Programming (CP) is the main paradigm used by OR-Tools for solving vehicle routing problems. This example is used as a simpe intro to CP before continuing on to VRP."
   ]
  },
  {
   "cell_type": "code",
   "execution_count": 30,
   "metadata": {},
   "outputs": [],
   "source": [
    "from __future__ import absolute_import\n",
    "from __future__ import division\n",
    "from __future__ import print_function\n",
    "\n",
    "from ortools.constraint_solver import pywrapcp"
   ]
  },
  {
   "cell_type": "markdown",
   "metadata": {},
   "source": [
    "This first simple problem is a quick introduction. The goal is to find a <i>feasible</i> (not necessarily optimal) solution to the following problem:\n",
    "- $x, \\, y,$ and $z$ are three variables that can take on values $0, \\, 1,$ or $2$.\n",
    "- One constraint: $x \\ne y$"
   ]
  },
  {
   "cell_type": "markdown",
   "metadata": {},
   "source": [
    "Declare the CP solver:"
   ]
  },
  {
   "cell_type": "code",
   "execution_count": 31,
   "metadata": {},
   "outputs": [],
   "source": [
    "solver = pywrapcp.Solver(\"simple_CP_example\")"
   ]
  },
  {
   "cell_type": "markdown",
   "metadata": {},
   "source": [
    "<br> Create variables:"
   ]
  },
  {
   "cell_type": "code",
   "execution_count": 32,
   "metadata": {},
   "outputs": [],
   "source": [
    "# CP solver can only take integers\n",
    "x = solver.IntVar(0, 2, 'x')\n",
    "y = solver.IntVar(0, 2, 'y')\n",
    "z = solver.IntVar(0, 2, 'z')"
   ]
  },
  {
   "cell_type": "markdown",
   "metadata": {},
   "source": [
    "<br> Create the constraint:"
   ]
  },
  {
   "cell_type": "code",
   "execution_count": 33,
   "metadata": {},
   "outputs": [],
   "source": [
    "solver.Add(x != y)"
   ]
  },
  {
   "cell_type": "markdown",
   "metadata": {},
   "source": [
    "<br> Create a solver and solve the model:"
   ]
  },
  {
   "cell_type": "code",
   "execution_count": 34,
   "metadata": {},
   "outputs": [],
   "source": [
    "def print_solution(solver, x, y, z):\n",
    "    count = 0\n",
    "\n",
    "    while solver.NextSolution():\n",
    "        count += 1\n",
    "        print(\"x =\", x.Value(), \"y =\", y.Value(), \"z =\", z.Value())\n",
    "    print(\"\\nNumber of solutions found:\", count)"
   ]
  },
  {
   "cell_type": "markdown",
   "metadata": {},
   "source": [
    "<br> The CP solver uses a <i>decision builder</i> to assign variables and pass options to the solver. The `Phase()` method is one way (of many) to create a decision builder. More info [here](https://developers.google.com/optimization/cp/original_cp_solver#decision-builder)."
   ]
  },
  {
   "cell_type": "code",
   "execution_count": 35,
   "metadata": {},
   "outputs": [],
   "source": [
    "db = solver.Phase([x, y, z], solver.CHOOSE_FIRST_UNBOUND, solver.ASSIGN_MIN_VALUE)"
   ]
  },
  {
   "cell_type": "code",
   "execution_count": 36,
   "metadata": {},
   "outputs": [
    {
     "name": "stdout",
     "output_type": "stream",
     "text": [
      "x = 0 y = 1 z = 0\n",
      "x = 0 y = 1 z = 1\n",
      "x = 0 y = 1 z = 2\n",
      "x = 0 y = 2 z = 0\n",
      "x = 0 y = 2 z = 1\n",
      "x = 0 y = 2 z = 2\n",
      "x = 1 y = 0 z = 0\n",
      "x = 1 y = 0 z = 1\n",
      "x = 1 y = 0 z = 2\n",
      "x = 1 y = 2 z = 0\n",
      "x = 1 y = 2 z = 1\n",
      "x = 1 y = 2 z = 2\n",
      "x = 2 y = 0 z = 0\n",
      "x = 2 y = 0 z = 1\n",
      "x = 2 y = 0 z = 2\n",
      "x = 2 y = 1 z = 0\n",
      "x = 2 y = 1 z = 1\n",
      "x = 2 y = 1 z = 2\n",
      "\n",
      "Number of solutions found: 18\n"
     ]
    }
   ],
   "source": [
    "solver.Solve(db)\n",
    "print_solution(solver, x, y, z)"
   ]
  },
  {
   "cell_type": "markdown",
   "metadata": {},
   "source": [
    "---"
   ]
  },
  {
   "cell_type": "markdown",
   "metadata": {},
   "source": [
    "<br> <center><h3><b>Vehicle Routing and TSP</b></h3></center>"
   ]
  },
  {
   "cell_type": "markdown",
   "metadata": {},
   "source": [
    "<br><h4><u>V - TSP Example</u></h4>"
   ]
  },
  {
   "cell_type": "markdown",
   "metadata": {},
   "source": [
    "In this problem, it is required to visit 13 different cities in the US:\n",
    "\n",
    "0. New York \n",
    "1. Los Angeles \n",
    "2. Chicago \n",
    "3. Minneapolis \n",
    "4. Denver \n",
    "5. Dallas \n",
    "6. Seattle \n",
    "7. Boston \n",
    "8. San Francisco \n",
    "9. St. Louis \n",
    "10. Houston \n",
    "11. Phoenix \n",
    "12. Salt Lake City\n",
    "\n",
    "New York is the starting and end point (designated as the 'depot') and the number of vehicles is $\\it 1$ for a TSP problem. See the [tutorial page](https://developers.google.com/optimization/routing/tsp) for a map and more info."
   ]
  },
  {
   "cell_type": "code",
   "execution_count": 37,
   "metadata": {},
   "outputs": [],
   "source": [
    "# import the solver and functions\n",
    "from __future__ import print_function\n",
    "from ortools.constraint_solver import routing_enums_pb2\n",
    "from ortools.constraint_solver import pywrapcp"
   ]
  },
  {
   "cell_type": "markdown",
   "metadata": {},
   "source": [
    "<br> As usual, the first step is to create the data model. Because this is a TSP, the most important input is the distance matrix which represents the graph structure with locations as nodes and distances as edges."
   ]
  },
  {
   "cell_type": "code",
   "execution_count": 38,
   "metadata": {},
   "outputs": [],
   "source": [
    "def tsp_data_model():\n",
    "    data = dict()\n",
    "    data['distance_matrix'] = np.array([[0, 2451, 713, 1018, 1631, 1374, 2408, 213, 2571, 875, 1420, 2145, 1972],\n",
    "                                        [2451, 0, 1745, 1524, 831, 1240, 959, 2596, 403, 1589, 1374, 357, 579],\n",
    "                                        [713, 1745, 0, 355, 920, 803, 1737, 851, 1858, 262, 940, 1453, 1260],\n",
    "                                        [1018, 1524, 355, 0, 700, 862, 1395, 1123, 1584, 466, 1056, 1280, 987],\n",
    "                                        [1631, 831, 920, 700, 0, 663, 1021, 1769, 949, 796, 879, 586, 371],\n",
    "                                        [1374, 1240, 803, 862, 663, 0, 1681, 1551, 1765, 547, 225, 887, 999],\n",
    "                                        [2408, 959, 1737, 1395, 1021, 1681, 0, 2493, 678, 1724, 1891, 1114, 701],\n",
    "                                        [213, 2596, 851, 1123, 1769, 1551, 2493, 0, 2699, 1038, 1605, 2300, 2099],\n",
    "                                        [2571, 403, 1858, 1584, 949, 1765, 678, 2699, 0, 1744, 1645, 653, 600],\n",
    "                                        [875, 1589, 262, 466, 796, 547, 1724, 1038, 1744, 0, 679, 1272, 1162],\n",
    "                                        [1420, 1374, 940, 1056, 879, 225, 1891, 1605, 1645, 679, 0, 1017, 1200],\n",
    "                                        [2145, 357, 1453, 1280, 586, 887, 1114, 2300, 653, 1272, 1017, 0, 504],\n",
    "                                        [1972, 579, 1260, 987, 371, 999, 701, 2099, 600, 1162, 1200, 504, 0],\n",
    "                                       ])\n",
    "    data['num_vehicles'] = 1\n",
    "    data['depot'] = 0\n",
    "    return data"
   ]
  },
  {
   "cell_type": "code",
   "execution_count": 39,
   "metadata": {},
   "outputs": [],
   "source": [
    "data = tsp_data_model()"
   ]
  },
  {
   "cell_type": "markdown",
   "metadata": {},
   "source": [
    "<br> The manager below makes it easier to work with the nodes without having to access the solvers internal indexing structure."
   ]
  },
  {
   "cell_type": "code",
   "execution_count": 40,
   "metadata": {},
   "outputs": [],
   "source": [
    "manager = pywrapcp.RoutingIndexManager(data.get('distance_matrix').shape[0],  # number of nodes\n",
    "                                       data.get('num_vehicles'),  # number of vehicles\n",
    "                                       data.get('depot'))  # starting and end point\n",
    "\n",
    "routing = pywrapcp.RoutingModel(manager)  # creates the model"
   ]
  },
  {
   "cell_type": "markdown",
   "metadata": {},
   "source": [
    "<br> The following just shows the incredible number of methods and parameters available for `RoutingModel()`."
   ]
  },
  {
   "cell_type": "code",
   "execution_count": 41,
   "metadata": {
    "scrolled": true,
    "tags": []
   },
   "outputs": [
    {
     "name": "stdout",
     "output_type": "stream",
     "text": [
      "ADDED_TYPE_REMOVED_FROM_VEHICLE\n",
      "ActiveVar\n",
      "ActiveVehicleVar\n",
      "AddAtSolutionCallback\n",
      "AddConstantDimension\n",
      "AddConstantDimensionWithSlack\n",
      "AddDimension\n",
      "AddDimensionWithVehicleCapacity\n",
      "AddDimensionWithVehicleTransitAndCapacity\n",
      "AddDimensionWithVehicleTransits\n",
      "AddDisjunction\n",
      "AddHardTypeIncompatibility\n",
      "AddIntervalToAssignment\n",
      "AddLocalSearchFilter\n",
      "AddLocalSearchOperator\n",
      "AddMatrixDimension\n",
      "AddPickupAndDelivery\n",
      "AddPickupAndDeliverySets\n",
      "AddRequiredTypeAlternativesWhenAddingType\n",
      "AddRequiredTypeAlternativesWhenRemovingType\n",
      "AddSameVehicleRequiredTypeAlternatives\n",
      "AddSearchMonitor\n",
      "AddSoftSameVehicleConstraint\n",
      "AddTemporalTypeIncompatibility\n",
      "AddToAssignment\n",
      "AddVariableMaximizedByFinalizer\n",
      "AddVariableMinimizedByFinalizer\n",
      "AddVariableTargetToFinalizer\n",
      "AddVectorDimension\n",
      "AddWeightedVariableMinimizedByFinalizer\n",
      "ApplyLocks\n",
      "ApplyLocksToAllVehicles\n",
      "ArcIsMoreConstrainedThanArc\n",
      "AreEmptyRouteCostsConsideredForVehicle\n",
      "AssignmentToRoutes\n",
      "CheckLimit\n",
      "CloseModel\n",
      "CloseModelWithParameters\n",
      "CloseVisitTypes\n",
      "CompactAndCheckAssignment\n",
      "CompactAssignment\n",
      "ComputeLowerBound\n",
      "ConsiderEmptyRouteCostsForVehicle\n",
      "CostVar\n",
      "CostsAreHomogeneousAcrossVehicles\n",
      "DebugOutputAssignment\n",
      "End\n",
      "GetAllDimensionNames\n",
      "GetAmortizedLinearCostFactorOfVehicles\n",
      "GetAmortizedQuadraticCostFactorOfVehicles\n",
      "GetArcCostForClass\n",
      "GetArcCostForFirstSolution\n",
      "GetArcCostForVehicle\n",
      "GetAutomaticFirstSolutionStrategy\n",
      "GetCostClassIndexOfVehicle\n",
      "GetCostClassesCount\n",
      "GetDeliveryIndexPairs\n",
      "GetDepot\n",
      "GetDimensionOrDie\n",
      "GetDimensionResourceGroupIndices\n",
      "GetDimensions\n",
      "GetDimensionsWithSoftOrSpanCosts\n",
      "GetDisjunctionIndices\n",
      "GetDisjunctionMaxCardinality\n",
      "GetDisjunctionPenalty\n",
      "GetFixedCostOfVehicle\n",
      "GetGlobalDimensionCumulMPOptimizers\n",
      "GetGlobalDimensionCumulOptimizers\n",
      "GetHardTypeIncompatibilitiesOfType\n",
      "GetHomogeneousCost\n",
      "GetLocalDimensionCumulMPOptimizers\n",
      "GetLocalDimensionCumulOptimizers\n",
      "GetMaximumNumberOfActiveVehicles\n",
      "GetMutableDimension\n",
      "GetMutableGlobalCumulMPOptimizer\n",
      "GetMutableGlobalCumulOptimizer\n",
      "GetMutableLocalCumulMPOptimizer\n",
      "GetMutableLocalCumulOptimizer\n",
      "GetNonZeroCostClassesCount\n",
      "GetNumOfSingletonNodes\n",
      "GetNumberOfDecisionsInFirstSolution\n",
      "GetNumberOfDisjunctions\n",
      "GetNumberOfRejectsInFirstSolution\n",
      "GetNumberOfVisitTypes\n",
      "GetPairIndicesOfType\n",
      "GetPerfectBinaryDisjunctions\n",
      "GetPickupAndDeliveryPolicyOfVehicle\n",
      "GetPickupIndexPairs\n",
      "GetPrimaryConstrainedDimension\n",
      "GetRequiredTypeAlternativesWhenAddingType\n",
      "GetRequiredTypeAlternativesWhenRemovingType\n",
      "GetSameVehicleIndicesOfIndex\n",
      "GetSameVehicleRequiredTypeAlternativesOfType\n",
      "GetSingleNodesOfType\n",
      "GetTemporalTypeIncompatibilitiesOfType\n",
      "GetVehicleClassIndexOfVehicle\n",
      "GetVehicleClassesCount\n",
      "GetVehicleOfClass\n",
      "GetVehicleTypeContainer\n",
      "GetVisitType\n",
      "GetVisitTypePolicy\n",
      "HasDimension\n",
      "HasHardTypeIncompatibilities\n",
      "HasSameVehicleTypeRequirements\n",
      "HasTemporalTypeIncompatibilities\n",
      "HasTemporalTypeRequirements\n",
      "HasTypeRegulations\n",
      "HasVehicleWithCostClassIndex\n",
      "IgnoreDisjunctionsAlreadyForcedToZero\n",
      "IsEnd\n",
      "IsMatchingModel\n",
      "IsStart\n",
      "IsVehicleAllowedForIndex\n",
      "IsVehicleUsed\n",
      "MakeGuidedSlackFinalizer\n",
      "MakePathSpansAndTotalSlacks\n",
      "MakeSelfDependentDimensionFinalizer\n",
      "MutablePreAssignment\n",
      "Next\n",
      "NextVar\n",
      "PICKUP_AND_DELIVERY_FIFO\n",
      "PICKUP_AND_DELIVERY_LIFO\n",
      "PICKUP_AND_DELIVERY_NO_ORDER\n",
      "PackCumulsOfOptimizerDimensionsFromAssignment\n",
      "PreAssignment\n",
      "ROUTING_FAIL\n",
      "ROUTING_FAIL_TIMEOUT\n",
      "ROUTING_INVALID\n",
      "ROUTING_NOT_SOLVED\n",
      "ROUTING_SUCCESS\n",
      "ReadAssignment\n",
      "ReadAssignmentFromRoutes\n",
      "RegisterPositiveTransitCallback\n",
      "RegisterPositiveUnaryTransitCallback\n",
      "RegisterTransitCallback\n",
      "RegisterTransitMatrix\n",
      "RegisterUnaryTransitCallback\n",
      "RegisterUnaryTransitVector\n",
      "RemainingTime\n",
      "RestoreAssignment\n",
      "RoutesToAssignment\n",
      "SetAllowedVehiclesForIndex\n",
      "SetAmortizedCostFactorsOfAllVehicles\n",
      "SetAmortizedCostFactorsOfVehicle\n",
      "SetArcCostEvaluatorOfAllVehicles\n",
      "SetArcCostEvaluatorOfVehicle\n",
      "SetAssignmentFromOtherModelAssignment\n",
      "SetFirstSolutionEvaluator\n",
      "SetFixedCostOfAllVehicles\n",
      "SetFixedCostOfVehicle\n",
      "SetMaximumNumberOfActiveVehicles\n",
      "SetPickupAndDeliveryPolicyOfAllVehicles\n",
      "SetPickupAndDeliveryPolicyOfVehicle\n",
      "SetPrimaryConstrainedDimension\n",
      "SetVisitType\n",
      "Size\n",
      "Solve\n",
      "SolveFromAssignmentWithParameters\n",
      "SolveFromAssignmentsWithParameters\n",
      "SolveWithParameters\n",
      "Start\n",
      "TYPE_ADDED_TO_VEHICLE\n",
      "TYPE_ON_VEHICLE_UP_TO_VISIT\n",
      "TYPE_SIMULTANEOUSLY_ADDED_AND_REMOVED\n",
      "TransitCallback\n",
      "UnaryTransitCallbackOrNull\n",
      "UnperformedPenalty\n",
      "UnperformedPenaltyOrValue\n",
      "VehicleCostsConsideredVar\n",
      "VehicleIndex\n",
      "VehicleVar\n",
      "WriteAssignment\n",
      "kNoDimension\n",
      "kNoDisjunction\n",
      "kNoPenalty\n",
      "nodes\n",
      "solver\n",
      "status\n",
      "this\n",
      "thisown\n",
      "vehicles\n"
     ]
    }
   ],
   "source": [
    "routing_methods = [print(i) for i in dir(routing) if not i.endswith('__')]"
   ]
  },
  {
   "cell_type": "markdown",
   "metadata": {},
   "source": [
    "<br> The following function creates the callback (which returns the distance between any two nodes) and registers it with the solver as `transit_callback_index`."
   ]
  },
  {
   "cell_type": "code",
   "execution_count": 42,
   "metadata": {},
   "outputs": [],
   "source": [
    "def distance_callback(from_index, to_index):\n",
    "    \"\"\"Returns the distance between the two nodes.\"\"\"\n",
    "    # Convert from routing variable Index to distance matrix NodeIndex.\n",
    "    from_node = manager.IndexToNode(from_index)\n",
    "    to_node = manager.IndexToNode(to_index)\n",
    "    return data.get('distance_matrix')[from_node, to_node]\n",
    "\n",
    "transit_callback_index = routing.RegisterTransitCallback(distance_callback)"
   ]
  },
  {
   "cell_type": "markdown",
   "metadata": {},
   "source": [
    "<br> This next line tells the solver that the cost is simply equal to the distance traveled. However, this cost can take different values functions and can also be assigned per vehicle using `SetArcCostEvaluatorOfVehicle()`."
   ]
  },
  {
   "cell_type": "code",
   "execution_count": 43,
   "metadata": {},
   "outputs": [],
   "source": [
    "routing.SetArcCostEvaluatorOfAllVehicles(transit_callback_index)"
   ]
  },
  {
   "cell_type": "markdown",
   "metadata": {},
   "source": [
    "<br> Set the solution strategy and defaults for the search:"
   ]
  },
  {
   "cell_type": "code",
   "execution_count": 44,
   "metadata": {},
   "outputs": [],
   "source": [
    "search_parameters = pywrapcp.DefaultRoutingSearchParameters()\n",
    "search_parameters.first_solution_strategy = (routing_enums_pb2.FirstSolutionStrategy.PATH_CHEAPEST_ARC)"
   ]
  },
  {
   "cell_type": "markdown",
   "metadata": {},
   "source": [
    "<br> This function prints out the best route and objective value. Note that \"best\" here does not always mean optimal, since the default parameters may limit the amount of searching if the solution space is very large."
   ]
  },
  {
   "cell_type": "code",
   "execution_count": 45,
   "metadata": {},
   "outputs": [],
   "source": [
    "def print_solution(manager, routing, solution):\n",
    "    \"\"\"Prints solution on console.\"\"\"\n",
    "    print('Objective: {} miles'.format(solution.ObjectiveValue()))\n",
    "    index = routing.Start(0)\n",
    "    plan_output = 'Route for vehicle 0:\\n'\n",
    "    route_distance = 0\n",
    "    while not routing.IsEnd(index):\n",
    "        plan_output += ' {} ->'.format(manager.IndexToNode(index))\n",
    "        previous_index = index\n",
    "        index = solution.Value(routing.NextVar(index))\n",
    "        route_distance += routing.GetArcCostForVehicle(previous_index, index, 0)\n",
    "    plan_output += ' {}\\n'.format(manager.IndexToNode(index))\n",
    "    print(plan_output)\n",
    "    plan_output += 'Route distance: {}miles\\n'.format(route_distance)"
   ]
  },
  {
   "cell_type": "markdown",
   "metadata": {},
   "source": [
    "<br> Finally, start solving:"
   ]
  },
  {
   "cell_type": "code",
   "execution_count": 46,
   "metadata": {
    "tags": []
   },
   "outputs": [
    {
     "name": "stdout",
     "output_type": "stream",
     "text": [
      "Objective: 7293 miles\n",
      "Route for vehicle 0:\n",
      " 0 -> 7 -> 2 -> 3 -> 4 -> 12 -> 6 -> 8 -> 1 -> 11 -> 10 -> 5 -> 9 -> 0\n",
      "\n"
     ]
    }
   ],
   "source": [
    "solution = routing.SolveWithParameters(search_parameters)\n",
    "if solution:\n",
    "    print_solution(manager, routing, solution)"
   ]
  },
  {
   "cell_type": "markdown",
   "metadata": {},
   "source": [
    "<br> Instead of printing, results can be saved to a list:"
   ]
  },
  {
   "cell_type": "code",
   "execution_count": 47,
   "metadata": {},
   "outputs": [],
   "source": [
    "def get_routes(solution, routing, manager):\n",
    "    \"\"\"Get vehicle routes from a solution and store them in an array.\"\"\"\n",
    "    # Get vehicle routes and store them in a two dimensional array whose\n",
    "    # i,j entry is the jth location visited by vehicle i along its route.\n",
    "    routes = []\n",
    "    for route_nbr in range(routing.vehicles()):\n",
    "        index = routing.Start(route_nbr)\n",
    "        route = [manager.IndexToNode(index)]\n",
    "    while not routing.IsEnd(index):\n",
    "        index = solution.Value(routing.NextVar(index))\n",
    "        route.append(manager.IndexToNode(index))\n",
    "    routes.append(route)\n",
    "    return routes"
   ]
  },
  {
   "cell_type": "code",
   "execution_count": 48,
   "metadata": {
    "tags": []
   },
   "outputs": [
    {
     "name": "stdout",
     "output_type": "stream",
     "text": [
      "Route 0: 0 -> 7 -> 2 -> 3 -> 4 -> 12 -> 6 -> 8 -> 1 -> 11 -> 10 -> 5 -> 9 -> 0\n"
     ]
    }
   ],
   "source": [
    "routes = get_routes(solution, routing, manager)\n",
    "# Display the routes.\n",
    "for i, route in enumerate(routes):\n",
    "    print('Route ' + str(i) + ':', ' -> '.join([str(i) for i in route]))"
   ]
  },
  {
   "cell_type": "markdown",
   "metadata": {},
   "source": [
    "---"
   ]
  },
  {
   "cell_type": "markdown",
   "metadata": {},
   "source": [
    "<br><h4><u>VI - VRP Example</u></h4>"
   ]
  },
  {
   "cell_type": "markdown",
   "metadata": {},
   "source": [
    "There are different ways to define the \"optimal routes\" for multiple vehicles for VRP problems. In this problem, the optimal routes are the ones that minimize the length of the longest single route among all vehicles. <br>In this example, the goal is to find the optimal routes for $4$ vehicles serving $16$ locations in a city arranged on identical rectangular blocks. More info [here](https://developers.google.com/optimization/routing/vrp)."
   ]
  },
  {
   "cell_type": "code",
   "execution_count": 49,
   "metadata": {},
   "outputs": [],
   "source": [
    "# import the solver and functions\n",
    "\n",
    "# from __future__ import print_function\n",
    "# from ortools.constraint_solver import routing_enums_pb2\n",
    "# from ortools.constraint_solver import pywrapcp"
   ]
  },
  {
   "cell_type": "code",
   "execution_count": 50,
   "metadata": {},
   "outputs": [],
   "source": [
    "def vrp_data_model():\n",
    "    \"\"\"Stores the data for the problem.\"\"\"\n",
    "    data = dict()\n",
    "    data['distance_matrix'] = np.array([\n",
    "        [\n",
    "            0, 548, 776, 696, 582, 274, 502, 194, 308, 194, 536, 502, 388, 354,\n",
    "            468, 776, 662\n",
    "        ],\n",
    "        [\n",
    "            548, 0, 684, 308, 194, 502, 730, 354, 696, 742, 1084, 594, 480, 674,\n",
    "            1016, 868, 1210\n",
    "        ],\n",
    "        [\n",
    "            776, 684, 0, 992, 878, 502, 274, 810, 468, 742, 400, 1278, 1164,\n",
    "            1130, 788, 1552, 754\n",
    "        ],\n",
    "        [\n",
    "            696, 308, 992, 0, 114, 650, 878, 502, 844, 890, 1232, 514, 628, 822,\n",
    "            1164, 560, 1358\n",
    "        ],\n",
    "        [\n",
    "            582, 194, 878, 114, 0, 536, 764, 388, 730, 776, 1118, 400, 514, 708,\n",
    "            1050, 674, 1244\n",
    "        ],\n",
    "        [\n",
    "            274, 502, 502, 650, 536, 0, 228, 308, 194, 240, 582, 776, 662, 628,\n",
    "            514, 1050, 708\n",
    "        ],\n",
    "        [\n",
    "            502, 730, 274, 878, 764, 228, 0, 536, 194, 468, 354, 1004, 890, 856,\n",
    "            514, 1278, 480\n",
    "        ],\n",
    "        [\n",
    "            194, 354, 810, 502, 388, 308, 536, 0, 342, 388, 730, 468, 354, 320,\n",
    "            662, 742, 856\n",
    "        ],\n",
    "        [\n",
    "            308, 696, 468, 844, 730, 194, 194, 342, 0, 274, 388, 810, 696, 662,\n",
    "            320, 1084, 514\n",
    "        ],\n",
    "        [\n",
    "            194, 742, 742, 890, 776, 240, 468, 388, 274, 0, 342, 536, 422, 388,\n",
    "            274, 810, 468\n",
    "        ],\n",
    "        [\n",
    "            536, 1084, 400, 1232, 1118, 582, 354, 730, 388, 342, 0, 878, 764,\n",
    "            730, 388, 1152, 354\n",
    "        ],\n",
    "        [\n",
    "            502, 594, 1278, 514, 400, 776, 1004, 468, 810, 536, 878, 0, 114,\n",
    "            308, 650, 274, 844\n",
    "        ],\n",
    "        [\n",
    "            388, 480, 1164, 628, 514, 662, 890, 354, 696, 422, 764, 114, 0, 194,\n",
    "            536, 388, 730\n",
    "        ],\n",
    "        [\n",
    "            354, 674, 1130, 822, 708, 628, 856, 320, 662, 388, 730, 308, 194, 0,\n",
    "            342, 422, 536\n",
    "        ],\n",
    "        [\n",
    "            468, 1016, 788, 1164, 1050, 514, 514, 662, 320, 274, 388, 650, 536,\n",
    "            342, 0, 764, 194\n",
    "        ],\n",
    "        [\n",
    "            776, 868, 1552, 560, 674, 1050, 1278, 742, 1084, 810, 1152, 274,\n",
    "            388, 422, 764, 0, 798\n",
    "        ],\n",
    "        [\n",
    "            662, 1210, 754, 1358, 1244, 708, 480, 856, 514, 468, 354, 844, 730,\n",
    "            536, 194, 798, 0\n",
    "        ],\n",
    "    ])\n",
    "    data['num_vehicles'] = 4\n",
    "    data['depot'] = 0\n",
    "    return data"
   ]
  },
  {
   "cell_type": "code",
   "execution_count": 51,
   "metadata": {},
   "outputs": [],
   "source": [
    "data = vrp_data_model()"
   ]
  },
  {
   "cell_type": "markdown",
   "metadata": {},
   "source": [
    "<br> Set up the manager, callback and search parameters. This is identical to the preceding TSP example."
   ]
  },
  {
   "cell_type": "code",
   "execution_count": 52,
   "metadata": {},
   "outputs": [],
   "source": [
    "# Managers\n",
    "manager = pywrapcp.RoutingIndexManager(data.get('distance_matrix').shape[0],  # number of nodes\n",
    "                                       data.get('num_vehicles'),  # number of vehicles\n",
    "                                       data.get('depot'))  # starting and end point\n",
    "\n",
    "routing = pywrapcp.RoutingModel(manager)\n",
    "\n",
    "def distance_callback(from_index, to_index):\n",
    "    \"\"\"Returns the distance between the two nodes.\"\"\"\n",
    "    # Convert from routing variable Index to distance matrix NodeIndex.\n",
    "    from_node = manager.IndexToNode(from_index)\n",
    "    to_node = manager.IndexToNode(to_index)\n",
    "    return data.get('distance_matrix')[from_node, to_node]\n",
    "\n",
    "# Define cost of each arc.\n",
    "transit_callback_index = routing.RegisterTransitCallback(distance_callback)\n",
    "routing.SetArcCostEvaluatorOfAllVehicles(transit_callback_index)\n",
    "\n",
    "# Setting first solution heuristic.\n",
    "search_parameters = pywrapcp.DefaultRoutingSearchParameters()\n",
    "search_parameters.first_solution_strategy = (routing_enums_pb2.FirstSolutionStrategy.PATH_CHEAPEST_ARC)"
   ]
  },
  {
   "cell_type": "markdown",
   "metadata": {},
   "source": [
    "<br> <span style='color:red'><b>IMPORTANT\n",
    "    <br></b></span><b>Dimensions:</b> For VRP problems, <i>dimensions</i> are required. The dimensions are used to tell the solver how to accumulate the cost(s) over the distance traveled by each vehicle. Properly defining dimensions is critical to finding a good solution to the VRP problem and its variations.\n"
   ]
  },
  {
   "cell_type": "code",
   "execution_count": 53,
   "metadata": {},
   "outputs": [],
   "source": [
    "dimension_name = 'Distance'  # important: make sure to use unique names for each dimension\n",
    "\n",
    "routing.AddDimension(transit_callback_index, \n",
    "                     0,  # no slack \n",
    "                     3000,  # vehicle maximum travel distance \n",
    "                     True,  # start cumul to zero \n",
    "                     dimension_name)\n",
    "\n",
    "distance_dimension = routing.GetDimensionOrDie(dimension_name)\n",
    "\n",
    "distance_dimension.SetGlobalSpanCostCoefficient(100)  # use a large value for this (like 100)"
   ]
  },
  {
   "cell_type": "markdown",
   "metadata": {},
   "source": [
    "<br> Same print function as above, slightly modified for multiple vehicles:"
   ]
  },
  {
   "cell_type": "code",
   "execution_count": 54,
   "metadata": {},
   "outputs": [],
   "source": [
    "def print_vrp_solution(data, manager, routing, solution):\n",
    "    \n",
    "    max_route_distance = 0\n",
    "    total_all_routes = 0\n",
    "    \n",
    "    for vehicle_id in range(data['num_vehicles']):\n",
    "        index = routing.Start(vehicle_id)\n",
    "        plan_output = 'Route for vehicle {}:\\n'.format(vehicle_id)\n",
    "        route_distance = 0\n",
    "        \n",
    "        while not routing.IsEnd(index):\n",
    "            plan_output += ' {} -> '.format(manager.IndexToNode(index))\n",
    "            previous_index = index\n",
    "            index = solution.Value(routing.NextVar(index))\n",
    "            route_distance += routing.GetArcCostForVehicle(previous_index, index, vehicle_id)\n",
    "        \n",
    "        plan_output += '{}\\n'.format(manager.IndexToNode(index))\n",
    "        plan_output += 'Distance of the route: {}m\\n'.format(route_distance)\n",
    "        print(plan_output)\n",
    "        max_route_distance = max(route_distance, max_route_distance)\n",
    "        total_all_routes += route_distance\n",
    "    \n",
    "    print('Maximum of the route distances: {}m'.format(max_route_distance))\n",
    "    print('Total distance of all routes: {}m'.format(total_all_routes))"
   ]
  },
  {
   "cell_type": "markdown",
   "metadata": {},
   "source": [
    "<br> Solve!"
   ]
  },
  {
   "cell_type": "code",
   "execution_count": 55,
   "metadata": {
    "tags": []
   },
   "outputs": [
    {
     "name": "stdout",
     "output_type": "stream",
     "text": [
      "Route for vehicle 0:\n",
      " 0 ->  8 ->  6 ->  2 ->  5 -> 0\n",
      "Distance of the route: 1552m\n",
      "\n",
      "Route for vehicle 1:\n",
      " 0 ->  7 ->  1 ->  4 ->  3 -> 0\n",
      "Distance of the route: 1552m\n",
      "\n",
      "Route for vehicle 2:\n",
      " 0 ->  9 ->  10 ->  16 ->  14 -> 0\n",
      "Distance of the route: 1552m\n",
      "\n",
      "Route for vehicle 3:\n",
      " 0 ->  12 ->  11 ->  15 ->  13 -> 0\n",
      "Distance of the route: 1552m\n",
      "\n",
      "Maximum of the route distances: 1552m\n",
      "Total distance of all routes: 6208m\n"
     ]
    }
   ],
   "source": [
    "solution = routing.SolveWithParameters(search_parameters)\n",
    "if solution:\n",
    "    print_vrp_solution(data, manager, routing, solution)"
   ]
  },
  {
   "cell_type": "markdown",
   "metadata": {},
   "source": [
    "---"
   ]
  },
  {
   "cell_type": "markdown",
   "metadata": {},
   "source": [
    "<br><h4><u>VII - CVRP Example</u></h4>"
   ]
  },
  {
   "cell_type": "markdown",
   "metadata": {},
   "source": [
    "This example is the same as above but adds capacity constraints. In this case, the locations and distances are the same as before but now each location has a demand (deliveries to either pick up or drop off) and each vehicle has a maximum capacity it can carry."
   ]
  },
  {
   "cell_type": "code",
   "execution_count": 56,
   "metadata": {},
   "outputs": [],
   "source": [
    "# from __future__ import print_function\n",
    "# from ortools.constraint_solver import routing_enums_pb2\n",
    "# from ortools.constraint_solver import pywrapcp"
   ]
  },
  {
   "cell_type": "markdown",
   "metadata": {},
   "source": [
    "The data model is initialized as in the VRP model but there are two additional data values: <i>demand</i> at each location and <i>capacities</i>. The capacity is the same for all vehicles in this example but different capacities can be used."
   ]
  },
  {
   "cell_type": "code",
   "execution_count": 57,
   "metadata": {},
   "outputs": [],
   "source": [
    "def cvrp_data_model():\n",
    "    \"\"\"Stores the data for the problem.\"\"\"\n",
    "    data = dict()\n",
    "    data['distance_matrix'] = np.array([\n",
    "        [\n",
    "            0, 548, 776, 696, 582, 274, 502, 194, 308, 194, 536, 502, 388, 354,\n",
    "            468, 776, 662\n",
    "        ],\n",
    "        [\n",
    "            548, 0, 684, 308, 194, 502, 730, 354, 696, 742, 1084, 594, 480, 674,\n",
    "            1016, 868, 1210\n",
    "        ],\n",
    "        [\n",
    "            776, 684, 0, 992, 878, 502, 274, 810, 468, 742, 400, 1278, 1164,\n",
    "            1130, 788, 1552, 754\n",
    "        ],\n",
    "        [\n",
    "            696, 308, 992, 0, 114, 650, 878, 502, 844, 890, 1232, 514, 628, 822,\n",
    "            1164, 560, 1358\n",
    "        ],\n",
    "        [\n",
    "            582, 194, 878, 114, 0, 536, 764, 388, 730, 776, 1118, 400, 514, 708,\n",
    "            1050, 674, 1244\n",
    "        ],\n",
    "        [\n",
    "            274, 502, 502, 650, 536, 0, 228, 308, 194, 240, 582, 776, 662, 628,\n",
    "            514, 1050, 708\n",
    "        ],\n",
    "        [\n",
    "            502, 730, 274, 878, 764, 228, 0, 536, 194, 468, 354, 1004, 890, 856,\n",
    "            514, 1278, 480\n",
    "        ],\n",
    "        [\n",
    "            194, 354, 810, 502, 388, 308, 536, 0, 342, 388, 730, 468, 354, 320,\n",
    "            662, 742, 856\n",
    "        ],\n",
    "        [\n",
    "            308, 696, 468, 844, 730, 194, 194, 342, 0, 274, 388, 810, 696, 662,\n",
    "            320, 1084, 514\n",
    "        ],\n",
    "        [\n",
    "            194, 742, 742, 890, 776, 240, 468, 388, 274, 0, 342, 536, 422, 388,\n",
    "            274, 810, 468\n",
    "        ],\n",
    "        [\n",
    "            536, 1084, 400, 1232, 1118, 582, 354, 730, 388, 342, 0, 878, 764,\n",
    "            730, 388, 1152, 354\n",
    "        ],\n",
    "        [\n",
    "            502, 594, 1278, 514, 400, 776, 1004, 468, 810, 536, 878, 0, 114,\n",
    "            308, 650, 274, 844\n",
    "        ],\n",
    "        [\n",
    "            388, 480, 1164, 628, 514, 662, 890, 354, 696, 422, 764, 114, 0, 194,\n",
    "            536, 388, 730\n",
    "        ],\n",
    "        [\n",
    "            354, 674, 1130, 822, 708, 628, 856, 320, 662, 388, 730, 308, 194, 0,\n",
    "            342, 422, 536\n",
    "        ],\n",
    "        [\n",
    "            468, 1016, 788, 1164, 1050, 514, 514, 662, 320, 274, 388, 650, 536,\n",
    "            342, 0, 764, 194\n",
    "        ],\n",
    "        [\n",
    "            776, 868, 1552, 560, 674, 1050, 1278, 742, 1084, 810, 1152, 274,\n",
    "            388, 422, 764, 0, 798\n",
    "        ],\n",
    "        [\n",
    "            662, 1210, 754, 1358, 1244, 708, 480, 856, 514, 468, 354, 844, 730,\n",
    "            536, 194, 798, 0\n",
    "        ],\n",
    "    ])\n",
    "    data['demands'] = [0, 1, 1, 2, 4, 2, 4, 8, 8, 1, 2, 1, 2, 4, 4, 8, 8]\n",
    "    data['vehicle_capacities'] = [15, 20, 15, 12]\n",
    "    data['num_vehicles'] = 4\n",
    "    data['depot'] = 0\n",
    "    return data"
   ]
  },
  {
   "cell_type": "code",
   "execution_count": 58,
   "metadata": {},
   "outputs": [],
   "source": [
    "data = cvrp_data_model()"
   ]
  },
  {
   "cell_type": "markdown",
   "metadata": {},
   "source": [
    "<br> Again, set up the manager and the distance call back as in the VRP problem. The arc cost is also based on travel distance, as in the VRP example."
   ]
  },
  {
   "cell_type": "code",
   "execution_count": 59,
   "metadata": {},
   "outputs": [],
   "source": [
    "# Manager\n",
    "manager = pywrapcp.RoutingIndexManager(data.get('distance_matrix').shape[0],  # number of nodes\n",
    "                                       data.get('num_vehicles'),  # number of vehicles\n",
    "                                       data.get('depot'))  # starting and end point\n",
    "# Model\n",
    "routing = pywrapcp.RoutingModel(manager)"
   ]
  },
  {
   "cell_type": "code",
   "execution_count": 60,
   "metadata": {},
   "outputs": [],
   "source": [
    "def distance_callback(from_index, to_index):\n",
    "    \"\"\"Returns the distance between the two nodes.\"\"\"\n",
    "    # Convert from routing variable Index to distance matrix NodeIndex.\n",
    "    from_node = manager.IndexToNode(from_index)\n",
    "    to_node = manager.IndexToNode(to_index)\n",
    "    return data.get('distance_matrix')[from_node, to_node]\n",
    "\n",
    "# Register transit callback and define cost of each arc.\n",
    "transit_callback_index = routing.RegisterTransitCallback(distance_callback)\n",
    "routing.SetArcCostEvaluatorOfAllVehicles(transit_callback_index)"
   ]
  },
  {
   "cell_type": "markdown",
   "metadata": {},
   "source": [
    "<br> Another important modification for capacity constraints is adding an additional callback for the demand."
   ]
  },
  {
   "cell_type": "code",
   "execution_count": 61,
   "metadata": {},
   "outputs": [],
   "source": [
    "# Add Capacity constraint.\n",
    "def demand_callback(from_index):\n",
    "    \"\"\"Returns the demand of the node.\"\"\"\n",
    "    # Convert from routing variable Index to demands NodeIndex.\n",
    "    from_node = manager.IndexToNode(from_index)\n",
    "    return data.get('demands')[from_node]\n",
    "\n",
    "# Register capacity callback\n",
    "demand_callback_index = routing.RegisterUnaryTransitCallback(demand_callback)"
   ]
  },
  {
   "cell_type": "markdown",
   "metadata": {},
   "source": [
    "In this CVRP model, instead of using `addDimension()` as before (which can still be used here if all vehicles have the same capacity) the method `addDimensionWithVehicleCapacity()` is used."
   ]
  },
  {
   "cell_type": "code",
   "execution_count": 62,
   "metadata": {},
   "outputs": [
    {
     "data": {
      "text/plain": [
       "True"
      ]
     },
     "execution_count": 62,
     "metadata": {},
     "output_type": "execute_result"
    }
   ],
   "source": [
    "routing.AddDimensionWithVehicleCapacity(demand_callback_index, \n",
    "                                        0, # null capacity slack\n",
    "                                        data.get('vehicle_capacities'), # vehicle maximum capacities\n",
    "                                        True, # start cumul to zero\n",
    "                                        'Capacity')"
   ]
  },
  {
   "cell_type": "markdown",
   "metadata": {},
   "source": [
    "The rest of the model proceeds as before. Set the solution parameters and define a print function."
   ]
  },
  {
   "cell_type": "code",
   "execution_count": 63,
   "metadata": {},
   "outputs": [],
   "source": [
    "# Setting first solution heuristic.\n",
    "search_parameters = pywrapcp.DefaultRoutingSearchParameters()\n",
    "search_parameters.first_solution_strategy = (routing_enums_pb2.FirstSolutionStrategy.PATH_CHEAPEST_ARC)"
   ]
  },
  {
   "cell_type": "code",
   "execution_count": 64,
   "metadata": {},
   "outputs": [],
   "source": [
    "def print_cvrp_solution(data, manager, routing, solution):\n",
    "    total_distance = 0\n",
    "    total_load = 0\n",
    "    for vehicle_id in range(data['num_vehicles']):\n",
    "        index = routing.Start(vehicle_id)\n",
    "        plan_output = 'Route for vehicle {}:\\n'.format(vehicle_id)\n",
    "        route_distance = 0\n",
    "        route_load = 0\n",
    "        while not routing.IsEnd(index):\n",
    "            node_index = manager.IndexToNode(index)\n",
    "            route_load += data['demands'][node_index]\n",
    "            plan_output += ' {0} Load({1}) -> '.format(node_index, route_load)\n",
    "            previous_index = index\n",
    "            index = solution.Value(routing.NextVar(index))\n",
    "            route_distance += routing.GetArcCostForVehicle(\n",
    "                previous_index, index, vehicle_id)\n",
    "        plan_output += ' {0} Load({1})\\n'.format(manager.IndexToNode(index),\n",
    "                                                 route_load)\n",
    "        plan_output += 'Distance of the route: {}m\\n'.format(route_distance)\n",
    "        plan_output += 'Load of the route: {}\\n'.format(route_load)\n",
    "        print(plan_output)\n",
    "        total_distance += route_distance\n",
    "        total_load += route_load\n",
    "    print('Total distance of all routes: {}m'.format(total_distance))\n",
    "    print('Total load of all routes: {}'.format(total_load))"
   ]
  },
  {
   "cell_type": "markdown",
   "metadata": {},
   "source": [
    "<br> Solve!"
   ]
  },
  {
   "cell_type": "code",
   "execution_count": 65,
   "metadata": {
    "tags": []
   },
   "outputs": [
    {
     "name": "stdout",
     "output_type": "stream",
     "text": [
      "Route for vehicle 0:\n",
      " 0 Load(0) ->  1 Load(1) ->  4 Load(5) ->  3 Load(7) ->  15 Load(15) ->  0 Load(15)\n",
      "Distance of the route: 2192m\n",
      "Load of the route: 15\n",
      "\n",
      "Route for vehicle 1:\n",
      " 0 Load(0) ->  9 Load(1) ->  14 Load(5) ->  16 Load(13) ->  10 Load(15) ->  2 Load(16) ->  6 Load(20) ->  0 Load(20)\n",
      "Distance of the route: 2192m\n",
      "Load of the route: 20\n",
      "\n",
      "Route for vehicle 2:\n",
      " 0 Load(0) ->  7 Load(8) ->  13 Load(12) ->  12 Load(14) ->  11 Load(15) ->  0 Load(15)\n",
      "Distance of the route: 1324m\n",
      "Load of the route: 15\n",
      "\n",
      "Route for vehicle 3:\n",
      " 0 Load(0) ->  5 Load(2) ->  8 Load(10) ->  0 Load(10)\n",
      "Distance of the route: 776m\n",
      "Load of the route: 10\n",
      "\n",
      "Total distance of all routes: 6484m\n",
      "Total load of all routes: 60\n"
     ]
    }
   ],
   "source": [
    "solution = routing.SolveWithParameters(search_parameters)\n",
    "if solution:\n",
    "    print_cvrp_solution(data, manager, routing, solution)"
   ]
  },
  {
   "cell_type": "markdown",
   "metadata": {},
   "source": [
    "---"
   ]
  },
  {
   "cell_type": "markdown",
   "metadata": {},
   "source": [
    "<br><h4><u>VIII - VRPTW Example</u></h4>"
   ]
  },
  {
   "cell_type": "markdown",
   "metadata": {},
   "source": [
    "The previous example showed a capacity-constrained problem. In this example, the constraints are time-based instead of capacity-based. This requires some changes to the input data to solve:\n",
    "- The distance matrix is replaced with a time matrix defining the travel time between two points.\n",
    "- The time windows for each delivery/visit must be added."
   ]
  },
  {
   "cell_type": "code",
   "execution_count": 66,
   "metadata": {},
   "outputs": [],
   "source": [
    "def vrptw_data_model():\n",
    "    \"\"\"Stores the data for the problem.\"\"\"\n",
    "    data = {}\n",
    "    data['time_matrix'] = np.array([[0, 6, 9, 8, 7, 3, 6, 2, 3, 2, 6, 6, 4, 4, 5, 9, 7],\n",
    "                                    [6, 0, 8, 3, 2, 6, 8, 4, 8, 8, 13, 7, 5, 8, 12, 10, 14],\n",
    "                                    [9, 8, 0, 11, 10, 6, 3, 9, 5, 8, 4, 15, 14, 13, 9, 18, 9],\n",
    "                                    [8, 3, 11, 0, 1, 7, 10, 6, 10, 10, 14, 6, 7, 9, 14, 6, 16],\n",
    "                                    [7, 2, 10, 1, 0, 6, 9, 4, 8, 9, 13, 4, 6, 8, 12, 8, 14],\n",
    "                                    [3, 6, 6, 7, 6, 0, 2, 3, 2, 2, 7, 9, 7, 7, 6, 12, 8],\n",
    "                                    [6, 8, 3, 10, 9, 2, 0, 6, 2, 5, 4, 12, 10, 10, 6, 15, 5],\n",
    "                                    [2, 4, 9, 6, 4, 3, 6, 0, 4, 4, 8, 5, 4, 3, 7, 8, 10],\n",
    "                                    [3, 8, 5, 10, 8, 2, 2, 4, 0, 3, 4, 9, 8, 7, 3, 13, 6],\n",
    "                                    [2, 8, 8, 10, 9, 2, 5, 4, 3, 0, 4, 6, 5, 4, 3, 9, 5],\n",
    "                                    [6, 13, 4, 14, 13, 7, 4, 8, 4, 4, 0, 10, 9, 8, 4, 13, 4],\n",
    "                                    [6, 7, 15, 6, 4, 9, 12, 5, 9, 6, 10, 0, 1, 3, 7, 3, 10],\n",
    "                                    [4, 5, 14, 7, 6, 7, 10, 4, 8, 5, 9, 1, 0, 2, 6, 4, 8],\n",
    "                                    [4, 8, 13, 9, 8, 7, 10, 3, 7, 4, 8, 3, 2, 0, 4, 5, 6],\n",
    "                                    [5, 12, 9, 14, 12, 6, 6, 7, 3, 3, 4, 7, 6, 4, 0, 9, 2],\n",
    "                                    [9, 10, 18, 6, 8, 12, 15, 8, 13, 9, 13, 3, 4, 5, 9, 0, 9],\n",
    "                                    [7, 14, 9, 16, 14, 8, 5, 10, 6, 5, 4, 10, 8, 6, 2, 9, 0] ])\n",
    "    # each tuple represents the time window (beginning, end) for each location\n",
    "    # starting from loc 0 (depot) to loc 16\n",
    "    data['time_windows'] = [(0, 5), \n",
    "                            (7, 12), \n",
    "                            (10, 15), \n",
    "                            (16, 18), \n",
    "                            (10, 13), \n",
    "                            (0, 5), \n",
    "                            (5, 10), \n",
    "                            (0, 4), \n",
    "                            (5, 10), \n",
    "                            (0, 3), \n",
    "                            (10, 16), \n",
    "                            (10, 15), \n",
    "                            (0, 5), \n",
    "                            (5, 10), \n",
    "                            (7, 8), \n",
    "                            (10, 15), \n",
    "                            (11, 15) ]  # cannot be np array (?)\n",
    "    data['num_vehicles'] = 4\n",
    "    data['depot'] = 0\n",
    "    return data"
   ]
  },
  {
   "cell_type": "code",
   "execution_count": 67,
   "metadata": {},
   "outputs": [],
   "source": [
    "data = vrptw_data_model()"
   ]
  },
  {
   "cell_type": "markdown",
   "metadata": {},
   "source": [
    "<br> The next step is similar to before: create the routing index manager and model."
   ]
  },
  {
   "cell_type": "code",
   "execution_count": 68,
   "metadata": {},
   "outputs": [],
   "source": [
    "# Create the routing index manager.\n",
    "manager = pywrapcp.RoutingIndexManager(data.get('time_matrix').shape[0],  # use the time matrix\n",
    "                                       data.get('num_vehicles'), \n",
    "                                       data.get('depot'))\n",
    "\n",
    "# Create Routing Model.\n",
    "routing = pywrapcp.RoutingModel(manager)"
   ]
  },
  {
   "cell_type": "markdown",
   "metadata": {},
   "source": [
    "<br> For the VRPTW model, the transit callback is based on time instead of distance:"
   ]
  },
  {
   "cell_type": "code",
   "execution_count": 69,
   "metadata": {},
   "outputs": [],
   "source": [
    "def time_callback(from_index, to_index):\n",
    "    \"\"\"Returns the travel time between the two nodes.\"\"\"\n",
    "    # Convert from routing variable Index to time matrix NodeIndex.\n",
    "    from_node = manager.IndexToNode(from_index)\n",
    "    to_node = manager.IndexToNode(to_index)\n",
    "    return data.get('time_matrix')[from_node, to_node]\n",
    "\n",
    "transit_callback_index = routing.RegisterTransitCallback(time_callback)\n",
    "\n",
    "# Define cost of each arc.\n",
    "routing.SetArcCostEvaluatorOfAllVehicles(transit_callback_index)"
   ]
  },
  {
   "cell_type": "markdown",
   "metadata": {},
   "source": [
    "<br> In the next block, the time window constraints are added. Here the slack is set to 30 min to allow any required waiting time and the maximum capacity is also set to 30, meaning a vehicle's total time on the route cannot exceed 30 min. Also notice the change in `force_cumul_start` from `True` to `False`."
   ]
  },
  {
   "cell_type": "code",
   "execution_count": 70,
   "metadata": {},
   "outputs": [],
   "source": [
    "time = 'Time'\n",
    "\n",
    "routing.AddDimension(transit_callback_index, \n",
    "                     30,  # allow waiting time\n",
    "                     30,  # maximum time per vehicle\n",
    "                     False,  # Don't force start cumul to zero.\n",
    "                     time)\n",
    "\n",
    "time_dimension = routing.GetDimensionOrDie(time)\n",
    "\n",
    "# Add time window constraints for each location except depot.\n",
    "for location_idx, time_window in enumerate(data.get('time_windows')):\n",
    "    if location_idx == 0:\n",
    "        continue\n",
    "    index = manager.NodeToIndex(location_idx)\n",
    "    time_dimension.CumulVar(index).SetRange(time_window[0], time_window[1])\n",
    "    \n",
    "# Add time window constraints for each vehicle start node.\n",
    "for vehicle_id in range(data.get('num_vehicles')):\n",
    "    index = routing.Start(vehicle_id)\n",
    "    time_dimension.CumulVar(index).SetRange(data.get('time_windows')[0][0],\n",
    "                                            data.get('time_windows')[0][1])"
   ]
  },
  {
   "cell_type": "markdown",
   "metadata": {},
   "source": [
    "<br> These next lines appear to be necessary to actually solve for feasible routes within the given constraints. They are not explained at all in the original example on the OR-Tools website."
   ]
  },
  {
   "cell_type": "code",
   "execution_count": 71,
   "metadata": {},
   "outputs": [],
   "source": [
    "# Instantiate route start and end times to produce feasible times.\n",
    "for i in range(data['num_vehicles']):\n",
    "    routing.AddVariableMinimizedByFinalizer(\n",
    "        time_dimension.CumulVar(routing.Start(i)))\n",
    "    routing.AddVariableMinimizedByFinalizer(\n",
    "        time_dimension.CumulVar(routing.End(i)))"
   ]
  },
  {
   "cell_type": "markdown",
   "metadata": {},
   "source": [
    "<br> The first solution heuristic is just like previous examples:"
   ]
  },
  {
   "cell_type": "code",
   "execution_count": 72,
   "metadata": {},
   "outputs": [],
   "source": [
    "search_parameters = pywrapcp.DefaultRoutingSearchParameters()\n",
    "search_parameters.first_solution_strategy = (routing_enums_pb2.FirstSolutionStrategy.PATH_CHEAPEST_ARC)"
   ]
  },
  {
   "cell_type": "markdown",
   "metadata": {},
   "source": [
    "<br> Again, an updated print function for this model:"
   ]
  },
  {
   "cell_type": "code",
   "execution_count": 73,
   "metadata": {},
   "outputs": [],
   "source": [
    "def print_vrptw_solution(data, manager, routing, solution):\n",
    "    \"\"\"Prints solution on console.\"\"\"\n",
    "    time_dimension = routing.GetDimensionOrDie('Time')\n",
    "    total_time = 0\n",
    "    for vehicle_id in range(data['num_vehicles']):\n",
    "        index = routing.Start(vehicle_id)\n",
    "        plan_output = 'Route for vehicle {}:\\n'.format(vehicle_id)\n",
    "        while not routing.IsEnd(index):\n",
    "            time_var = time_dimension.CumulVar(index)\n",
    "            plan_output += '{0} Time({1},{2}) -> '.format(\n",
    "                manager.IndexToNode(index), solution.Min(time_var),\n",
    "                solution.Max(time_var))\n",
    "            index = solution.Value(routing.NextVar(index))\n",
    "        time_var = time_dimension.CumulVar(index)\n",
    "        plan_output += '{0} Time({1},{2})\\n'.format(manager.IndexToNode(index),\n",
    "                                                    solution.Min(time_var),\n",
    "                                                    solution.Max(time_var))\n",
    "        plan_output += 'Time of the route: {}min\\n'.format(\n",
    "            solution.Min(time_var))\n",
    "        print(plan_output)\n",
    "        total_time += solution.Min(time_var)\n",
    "    print('Total time of all routes: {}min'.format(total_time))"
   ]
  },
  {
   "cell_type": "markdown",
   "metadata": {},
   "source": [
    "<br> Solve!"
   ]
  },
  {
   "cell_type": "code",
   "execution_count": 74,
   "metadata": {},
   "outputs": [],
   "source": [
    "solution = routing.SolveWithParameters(search_parameters)"
   ]
  },
  {
   "cell_type": "code",
   "execution_count": 75,
   "metadata": {},
   "outputs": [
    {
     "name": "stdout",
     "output_type": "stream",
     "text": [
      "Route for vehicle 0:\n",
      "0 Time(0,0) -> 9 Time(2,3) -> 14 Time(7,8) -> 16 Time(11,11) -> 0 Time(18,18)\n",
      "Time of the route: 18min\n",
      "\n",
      "Route for vehicle 1:\n",
      "0 Time(0,0) -> 7 Time(2,4) -> 1 Time(7,11) -> 4 Time(10,13) -> 3 Time(16,16) -> 0 Time(24,24)\n",
      "Time of the route: 24min\n",
      "\n",
      "Route for vehicle 2:\n",
      "0 Time(0,0) -> 12 Time(4,4) -> 13 Time(6,6) -> 15 Time(11,11) -> 11 Time(14,14) -> 0 Time(20,20)\n",
      "Time of the route: 20min\n",
      "\n",
      "Route for vehicle 3:\n",
      "0 Time(0,0) -> 5 Time(3,3) -> 8 Time(5,5) -> 6 Time(7,7) -> 2 Time(10,10) -> 10 Time(14,14) -> 0 Time(20,20)\n",
      "Time of the route: 20min\n",
      "\n",
      "Total time of all routes: 82min\n"
     ]
    }
   ],
   "source": [
    "# store and print the results\n",
    "if solution:\n",
    "    print_vrptw_solution(data, manager, routing, solution)"
   ]
  },
  {
   "cell_type": "markdown",
   "metadata": {},
   "source": [
    "---"
   ]
  },
  {
   "cell_type": "markdown",
   "metadata": {},
   "source": [
    "<br><h4><u>IX - <i>CVRPTW</i> Example</u></h4>"
   ]
  },
  {
   "cell_type": "markdown",
   "metadata": {},
   "source": [
    "The previous examples separately showed a capacitated vehicle routing problem (CVRP) and vehicle routing with time windows (VRPTW) problem. The tutorials on the OR-Tools website do not offer a CVRPTW example where the routing problem is constrained by both time windows and capacity. This example attempts to build on the previous two examples to solve a problem of this type."
   ]
  },
  {
   "cell_type": "markdown",
   "metadata": {},
   "source": [
    "<br> The first step is to update the data model. The updated data model for the CVRPTW problem combines the time matrix of the VRPTW example with the capacity constraints of the CVRP model. The time windows here are modified from the original model to make it easier to find feasible solutions."
   ]
  },
  {
   "cell_type": "code",
   "execution_count": 76,
   "metadata": {},
   "outputs": [],
   "source": [
    "def cvrp_tw_data_model():\n",
    "    \"\"\"Stores the data for the problem.\"\"\"\n",
    "    data = {}\n",
    "    data['time_matrix'] = np.array([[0, 6, 9, 8, 7, 3, 6, 2, 3, 2, 6, 6, 4, 4, 5, 9, 7],\n",
    "                                    [6, 0, 8, 3, 2, 6, 8, 4, 8, 8, 13, 7, 5, 8, 12, 10, 14],\n",
    "                                    [9, 8, 0, 11, 10, 6, 3, 9, 5, 8, 4, 15, 14, 13, 9, 18, 9],\n",
    "                                    [8, 3, 11, 0, 1, 7, 10, 6, 10, 10, 14, 6, 7, 9, 14, 6, 16],\n",
    "                                    [7, 2, 10, 1, 0, 6, 9, 4, 8, 9, 13, 4, 6, 8, 12, 8, 14],\n",
    "                                    [3, 6, 6, 7, 6, 0, 2, 3, 2, 2, 7, 9, 7, 7, 6, 12, 8],\n",
    "                                    [6, 8, 3, 10, 9, 2, 0, 6, 2, 5, 4, 12, 10, 10, 6, 15, 5],\n",
    "                                    [2, 4, 9, 6, 4, 3, 6, 0, 4, 4, 8, 5, 4, 3, 7, 8, 10],\n",
    "                                    [3, 8, 5, 10, 8, 2, 2, 4, 0, 3, 4, 9, 8, 7, 3, 13, 6],\n",
    "                                    [2, 8, 8, 10, 9, 2, 5, 4, 3, 0, 4, 6, 5, 4, 3, 9, 5],\n",
    "                                    [6, 13, 4, 14, 13, 7, 4, 8, 4, 4, 0, 10, 9, 8, 4, 13, 4],\n",
    "                                    [6, 7, 15, 6, 4, 9, 12, 5, 9, 6, 10, 0, 1, 3, 7, 3, 10],\n",
    "                                    [4, 5, 14, 7, 6, 7, 10, 4, 8, 5, 9, 1, 0, 2, 6, 4, 8],\n",
    "                                    [4, 8, 13, 9, 8, 7, 10, 3, 7, 4, 8, 3, 2, 0, 4, 5, 6],\n",
    "                                    [5, 12, 9, 14, 12, 6, 6, 7, 3, 3, 4, 7, 6, 4, 0, 9, 2],\n",
    "                                    [9, 10, 18, 6, 8, 12, 15, 8, 13, 9, 13, 3, 4, 5, 9, 0, 9],\n",
    "                                    [7, 14, 9, 16, 14, 8, 5, 10, 6, 5, 4, 10, 8, 6, 2, 9, 0] ])\n",
    "    # each tuple represents the time window (beginning, end) for each location\n",
    "    # starting from loc 0 (depot) to loc 16\n",
    "    data['time_windows'] = [(0, 60), \n",
    "                            (6, 14), \n",
    "                            (8, 16), \n",
    "                            (15, 22), \n",
    "                            (9, 15), \n",
    "                            (0, 8), \n",
    "                            (5, 20), \n",
    "                            (0, 12), \n",
    "                            (5, 10), \n",
    "                            (0, 6), \n",
    "                            (15, 25), \n",
    "                            (12, 20), \n",
    "                            (0, 7), \n",
    "                            (5, 15), \n",
    "                            (6, 12), \n",
    "                            (10, 20), \n",
    "                            (15, 28) ]  # cannot be np array (?)\n",
    "    \n",
    "    data['demands'] = [0, 1, 1, 2, 4, 2, 4, 8, 8, 1, 2, 1, 2, 4, 4, 8, 8]\n",
    "    \n",
    "    data['vehicle_capacities'] = [15, 20, 15, 12, 15, 20, 15]\n",
    "    \n",
    "    data['num_vehicles'] = 7\n",
    "    \n",
    "    data['depot'] = 0\n",
    "    \n",
    "    return data"
   ]
  },
  {
   "cell_type": "code",
   "execution_count": 77,
   "metadata": {},
   "outputs": [],
   "source": [
    "data = cvrp_tw_data_model()"
   ]
  },
  {
   "cell_type": "markdown",
   "metadata": {},
   "source": [
    "<br> Create the manager and model as before. For this example, the solution is driven again by a time matrix because of the time window constraints."
   ]
  },
  {
   "cell_type": "code",
   "execution_count": 78,
   "metadata": {},
   "outputs": [],
   "source": [
    "# Create the routing index manager.\n",
    "manager = pywrapcp.RoutingIndexManager(data.get('time_matrix').shape[0],  # use the time matrix\n",
    "                                       data.get('num_vehicles'), \n",
    "                                       data.get('depot'))\n",
    "\n",
    "# Create Routing Model.\n",
    "routing = pywrapcp.RoutingModel(manager)"
   ]
  },
  {
   "cell_type": "markdown",
   "metadata": {},
   "source": [
    "<br> The time callback is also defined the same as in the VRPTW problem:"
   ]
  },
  {
   "cell_type": "code",
   "execution_count": 79,
   "metadata": {},
   "outputs": [],
   "source": [
    "def time_callback(from_index, to_index):\n",
    "    \"\"\"Returns the travel time between the two nodes.\"\"\"\n",
    "    # Convert from routing variable Index to time matrix NodeIndex.\n",
    "    from_node = manager.IndexToNode(from_index)\n",
    "    to_node = manager.IndexToNode(to_index)\n",
    "    return data.get('time_matrix')[from_node, to_node]\n",
    "\n",
    "transit_callback_index = routing.RegisterTransitCallback(time_callback)\n",
    "\n",
    "# Define cost of each arc.\n",
    "routing.SetArcCostEvaluatorOfAllVehicles(transit_callback_index)"
   ]
  },
  {
   "cell_type": "markdown",
   "metadata": {},
   "source": [
    "<br> Again, define the time constraints. In this example, the waiting time and maximum time are increased to make it easier to find feasible solutions:"
   ]
  },
  {
   "cell_type": "code",
   "execution_count": 80,
   "metadata": {},
   "outputs": [],
   "source": [
    "time = 'Time'\n",
    "\n",
    "routing.AddDimension(transit_callback_index, \n",
    "                     45,  # allow waiting time\n",
    "                     45,  # maximum time per vehicle\n",
    "                     False,  # Don't force start cumul to zero.\n",
    "                     time)\n",
    "\n",
    "time_dimension = routing.GetDimensionOrDie(time)\n",
    "\n",
    "# Add time window constraints for each location except depot.\n",
    "for location_idx, time_window in enumerate(data.get('time_windows')):\n",
    "    if location_idx == 0:\n",
    "        continue\n",
    "    index = manager.NodeToIndex(location_idx)\n",
    "    time_dimension.CumulVar(index).SetRange(time_window[0], time_window[1])\n",
    "    \n",
    "# Add time window constraints for each vehicle start node.\n",
    "for vehicle_id in range(data.get('num_vehicles')):\n",
    "    index = routing.Start(vehicle_id)\n",
    "    time_dimension.CumulVar(index).SetRange(data.get('time_windows')[0][0],\n",
    "                                            data.get('time_windows')[0][1])"
   ]
  },
  {
   "cell_type": "markdown",
   "metadata": {},
   "source": [
    "<br> Next, add the demand callback as in the CVRP problem and define the capacity dimension."
   ]
  },
  {
   "cell_type": "code",
   "execution_count": 81,
   "metadata": {},
   "outputs": [],
   "source": [
    "# Add Capacity constraint.\n",
    "def demand_callback(from_index):\n",
    "    \"\"\"Returns the demand of the node.\"\"\"\n",
    "    # Convert from routing variable Index to demands NodeIndex.\n",
    "    from_node = manager.IndexToNode(from_index)\n",
    "    return data.get('demands')[from_node]\n",
    "\n",
    "# Register capacity callback\n",
    "demand_callback_index = routing.RegisterUnaryTransitCallback(demand_callback)"
   ]
  },
  {
   "cell_type": "code",
   "execution_count": 82,
   "metadata": {},
   "outputs": [
    {
     "data": {
      "text/plain": [
       "True"
      ]
     },
     "execution_count": 82,
     "metadata": {},
     "output_type": "execute_result"
    }
   ],
   "source": [
    "routing.AddDimensionWithVehicleCapacity(demand_callback_index, \n",
    "                                        0, # null capacity slack\n",
    "                                        data.get('vehicle_capacities'), # vehicle maximum capacities\n",
    "                                        True, # start cumul to zero\n",
    "                                        'Capacity')"
   ]
  },
  {
   "cell_type": "markdown",
   "metadata": {},
   "source": [
    "<br> As before, instantiate route start and end times to get feasible routes that satisfy the time constraints:"
   ]
  },
  {
   "cell_type": "code",
   "execution_count": 83,
   "metadata": {},
   "outputs": [],
   "source": [
    "for i in range(data['num_vehicles']):\n",
    "    routing.AddVariableMinimizedByFinalizer(\n",
    "        time_dimension.CumulVar(routing.Start(i)))\n",
    "    routing.AddVariableMinimizedByFinalizer(\n",
    "        time_dimension.CumulVar(routing.End(i)))"
   ]
  },
  {
   "cell_type": "markdown",
   "metadata": {},
   "source": [
    "<br> Initialize the search heuristic:"
   ]
  },
  {
   "cell_type": "code",
   "execution_count": 84,
   "metadata": {},
   "outputs": [],
   "source": [
    "search_parameters = pywrapcp.DefaultRoutingSearchParameters()\n",
    "search_parameters.first_solution_strategy = (routing_enums_pb2.FirstSolutionStrategy.PATH_CHEAPEST_ARC)\n",
    "# search_parameters.local_search_metaheuristic = (\n",
    "#     routing_enums_pb2.LocalSearchMetaheuristic.GUIDED_LOCAL_SEARCH)\n",
    "# search_parameters.time_limit.seconds = 30\n",
    "# search_parameters.log_search = True"
   ]
  },
  {
   "cell_type": "markdown",
   "metadata": {},
   "source": [
    "<br> Define the print function. The two print functions below are simply copies of the functions used in the CRVP and VRPTW models above, with the CVRP function just slightly modified to remove the distance output (since this model uses travel time which is already output by the first function). Of course, the two print functions can be merged into one but here they are kept separate to make things easy."
   ]
  },
  {
   "cell_type": "code",
   "execution_count": 85,
   "metadata": {},
   "outputs": [],
   "source": [
    "def print_tw_solution(data, manager, routing, solution):\n",
    "    \"\"\"Prints solution on console.\"\"\"\n",
    "    time_dimension = routing.GetDimensionOrDie('Time')\n",
    "    total_time = 0\n",
    "    for vehicle_id in range(data['num_vehicles']):\n",
    "        index = routing.Start(vehicle_id)\n",
    "        plan_output = 'Route for vehicle {}:\\n'.format(vehicle_id)\n",
    "        while not routing.IsEnd(index):\n",
    "            time_var = time_dimension.CumulVar(index)\n",
    "            plan_output += '{0} Time({1},{2}) -> '.format(\n",
    "                manager.IndexToNode(index), solution.Min(time_var),\n",
    "                solution.Max(time_var))\n",
    "            index = solution.Value(routing.NextVar(index))\n",
    "        time_var = time_dimension.CumulVar(index)\n",
    "        plan_output += '{0} Time({1},{2})\\n'.format(manager.IndexToNode(index),\n",
    "                                                    solution.Min(time_var),\n",
    "                                                    solution.Max(time_var))\n",
    "        plan_output += 'Time of the route: {}min\\n'.format(\n",
    "            solution.Min(time_var))\n",
    "        print(plan_output)\n",
    "        total_time += solution.Min(time_var)\n",
    "    print('Total time of all routes: {}min'.format(total_time))\n",
    "\n",
    "    \n",
    "def print_load_solution(data, manager, routing, solution):\n",
    "    total_load = 0\n",
    "    for vehicle_id in range(data['num_vehicles']):\n",
    "        index = routing.Start(vehicle_id)\n",
    "        plan_output = 'Route for vehicle {}:\\n'.format(vehicle_id)\n",
    "        route_load = 0\n",
    "        while not routing.IsEnd(index):\n",
    "            node_index = manager.IndexToNode(index)\n",
    "            route_load += data['demands'][node_index]\n",
    "            plan_output += ' {0} Load({1}) -> '.format(node_index, route_load)\n",
    "            previous_index = index\n",
    "            index = solution.Value(routing.NextVar(index))\n",
    "        plan_output += ' {0} Load({1})\\n'.format(manager.IndexToNode(index),\n",
    "                                                 route_load)\n",
    "        plan_output += 'Load of the route: {}\\n'.format(route_load)\n",
    "        print(plan_output)\n",
    "        total_load += route_load\n",
    "    print('Total load of all routes: {}'.format(total_load))"
   ]
  },
  {
   "cell_type": "markdown",
   "metadata": {},
   "source": [
    "<br> Finally, solve the problem and inspect the output!"
   ]
  },
  {
   "cell_type": "code",
   "execution_count": 86,
   "metadata": {},
   "outputs": [],
   "source": [
    "solution = routing.SolveWithParameters(search_parameters)"
   ]
  },
  {
   "cell_type": "code",
   "execution_count": 87,
   "metadata": {},
   "outputs": [
    {
     "name": "stdout",
     "output_type": "stream",
     "text": [
      "Route for vehicle 0:\n",
      "0 Time(0,0) -> 0 Time(0,0)\n",
      "Time of the route: 0min\n",
      "\n",
      "Route for vehicle 1:\n",
      "0 Time(0,0) -> 8 Time(5,5) -> 5 Time(7,7) -> 6 Time(9,9) -> 2 Time(12,12) -> 10 Time(16,16) -> 0 Time(22,22)\n",
      "Time of the route: 22min\n",
      "\n",
      "Route for vehicle 2:\n",
      "0 Time(0,0) -> 7 Time(2,8) -> 1 Time(6,12) -> 4 Time(9,14) -> 3 Time(15,15) -> 0 Time(23,23)\n",
      "Time of the route: 23min\n",
      "\n",
      "Route for vehicle 3:\n",
      "0 Time(0,0) -> 0 Time(0,0)\n",
      "Time of the route: 0min\n",
      "\n",
      "Route for vehicle 4:\n",
      "0 Time(0,0) -> 9 Time(2,6) -> 14 Time(6,12) -> 16 Time(15,15) -> 0 Time(22,22)\n",
      "Time of the route: 22min\n",
      "\n",
      "Route for vehicle 5:\n",
      "0 Time(0,0) -> 13 Time(5,5) -> 12 Time(7,7) -> 15 Time(11,11) -> 11 Time(14,14) -> 0 Time(20,20)\n",
      "Time of the route: 20min\n",
      "\n",
      "Route for vehicle 6:\n",
      "0 Time(0,0) -> 0 Time(0,0)\n",
      "Time of the route: 0min\n",
      "\n",
      "Total time of all routes: 87min\n",
      "\n",
      "==================================================================================================== \n",
      "\n",
      "Route for vehicle 0:\n",
      " 0 Load(0) ->  0 Load(0)\n",
      "Load of the route: 0\n",
      "\n",
      "Route for vehicle 1:\n",
      " 0 Load(0) ->  8 Load(8) ->  5 Load(10) ->  6 Load(14) ->  2 Load(15) ->  10 Load(17) ->  0 Load(17)\n",
      "Load of the route: 17\n",
      "\n",
      "Route for vehicle 2:\n",
      " 0 Load(0) ->  7 Load(8) ->  1 Load(9) ->  4 Load(13) ->  3 Load(15) ->  0 Load(15)\n",
      "Load of the route: 15\n",
      "\n",
      "Route for vehicle 3:\n",
      " 0 Load(0) ->  0 Load(0)\n",
      "Load of the route: 0\n",
      "\n",
      "Route for vehicle 4:\n",
      " 0 Load(0) ->  9 Load(1) ->  14 Load(5) ->  16 Load(13) ->  0 Load(13)\n",
      "Load of the route: 13\n",
      "\n",
      "Route for vehicle 5:\n",
      " 0 Load(0) ->  13 Load(4) ->  12 Load(6) ->  15 Load(14) ->  11 Load(15) ->  0 Load(15)\n",
      "Load of the route: 15\n",
      "\n",
      "Route for vehicle 6:\n",
      " 0 Load(0) ->  0 Load(0)\n",
      "Load of the route: 0\n",
      "\n",
      "Total load of all routes: 60\n"
     ]
    }
   ],
   "source": [
    "# store and print the results\n",
    "if solution:\n",
    "    print_tw_solution(data, manager, routing, solution)\n",
    "    print('\\n'+'='*100,'\\n')\n",
    "    print_load_solution(data, manager, routing, solution)"
   ]
  },
  {
   "cell_type": "code",
   "execution_count": 88,
   "metadata": {},
   "outputs": [
    {
     "data": {
      "text/plain": [
       "1"
      ]
     },
     "execution_count": 88,
     "metadata": {},
     "output_type": "execute_result"
    }
   ],
   "source": [
    "routing.status()"
   ]
  },
  {
   "cell_type": "markdown",
   "metadata": {},
   "source": [
    "---"
   ]
  },
  {
   "cell_type": "markdown",
   "metadata": {},
   "source": [
    "<br><h4><u>X - <span style='color:purple'>Simulation of Final Problem</span> </u></h4>"
   ]
  },
  {
   "cell_type": "markdown",
   "metadata": {},
   "source": [
    "This final example simulates the \"Growing Pains\" case we are solving. It is a CPRVTW problem as above but adds some additional constraints. The most significant is that there is are upper limits on both drive time and total time. The objective of the Growing Pains problem is to minimize total distance per year. To tackle this, the objective function is set as the distance with an upper bound set by translating the max drive time into a max distance.\n",
    "\n",
    "This leads to three callbacks and three dimensions for applying constraints:\n",
    "- Distance with upper bound max distance\n",
    "- Total time with an upper bound (e.g. total duty hours per driver)\n",
    "- Capacity with upper bound vehicle capacity\n",
    "\n",
    "With these in place, the problem proceeds as before."
   ]
  },
  {
   "cell_type": "markdown",
   "metadata": {},
   "source": [
    "<br> The first step is to update the data model. The updated data model for the CVRPTW problem combines the time matrix of the VRPTW example with the capacity constraints of the CVRP model. The time windows here are modified from the original model to make it easier to find feasible solutions."
   ]
  },
  {
   "cell_type": "code",
   "execution_count": 89,
   "metadata": {},
   "outputs": [],
   "source": [
    "def cvrp_tw_data_model():\n",
    "    \"\"\"Stores the data for the problem.\"\"\"\n",
    "    data = {}\n",
    "    data['distance_matrix'] = np.array([\n",
    "        [\n",
    "            0, 548, 776, 696, 582, 274, 502, 194, 308, 194, 536, 502, 388, 354,\n",
    "            468, 776, 662\n",
    "        ],\n",
    "        [\n",
    "            548, 0, 684, 308, 194, 502, 730, 354, 696, 742, 1084, 594, 480, 674,\n",
    "            1016, 868, 1210\n",
    "        ],\n",
    "        [\n",
    "            776, 684, 0, 992, 878, 502, 274, 810, 468, 742, 400, 1278, 1164,\n",
    "            1130, 788, 1552, 754\n",
    "        ],\n",
    "        [\n",
    "            696, 308, 992, 0, 114, 650, 878, 502, 844, 890, 1232, 514, 628, 822,\n",
    "            1164, 560, 1358\n",
    "        ],\n",
    "        [\n",
    "            582, 194, 878, 114, 0, 536, 764, 388, 730, 776, 1118, 400, 514, 708,\n",
    "            1050, 674, 1244\n",
    "        ],\n",
    "        [\n",
    "            274, 502, 502, 650, 536, 0, 228, 308, 194, 240, 582, 776, 662, 628,\n",
    "            514, 1050, 708\n",
    "        ],\n",
    "        [\n",
    "            502, 730, 274, 878, 764, 228, 0, 536, 194, 468, 354, 1004, 890, 856,\n",
    "            514, 1278, 480\n",
    "        ],\n",
    "        [\n",
    "            194, 354, 810, 502, 388, 308, 536, 0, 342, 388, 730, 468, 354, 320,\n",
    "            662, 742, 856\n",
    "        ],\n",
    "        [\n",
    "            308, 696, 468, 844, 730, 194, 194, 342, 0, 274, 388, 810, 696, 662,\n",
    "            320, 1084, 514\n",
    "        ],\n",
    "        [\n",
    "            194, 742, 742, 890, 776, 240, 468, 388, 274, 0, 342, 536, 422, 388,\n",
    "            274, 810, 468\n",
    "        ],\n",
    "        [\n",
    "            536, 1084, 400, 1232, 1118, 582, 354, 730, 388, 342, 0, 878, 764,\n",
    "            730, 388, 1152, 354\n",
    "        ],\n",
    "        [\n",
    "            502, 594, 1278, 514, 400, 776, 1004, 468, 810, 536, 878, 0, 114,\n",
    "            308, 650, 274, 844\n",
    "        ],\n",
    "        [\n",
    "            388, 480, 1164, 628, 514, 662, 890, 354, 696, 422, 764, 114, 0, 194,\n",
    "            536, 388, 730\n",
    "        ],\n",
    "        [\n",
    "            354, 674, 1130, 822, 708, 628, 856, 320, 662, 388, 730, 308, 194, 0,\n",
    "            342, 422, 536\n",
    "        ],\n",
    "        [\n",
    "            468, 1016, 788, 1164, 1050, 514, 514, 662, 320, 274, 388, 650, 536,\n",
    "            342, 0, 764, 194\n",
    "        ],\n",
    "        [\n",
    "            776, 868, 1552, 560, 674, 1050, 1278, 742, 1084, 810, 1152, 274,\n",
    "            388, 422, 764, 0, 798\n",
    "        ],\n",
    "        [\n",
    "            662, 1210, 754, 1358, 1244, 708, 480, 856, 514, 468, 354, 844, 730,\n",
    "            536, 194, 798, 0\n",
    "        ],\n",
    "    ])\n",
    "    data['time_matrix'] = np.array([[0, 6, 9, 8, 7, 3, 6, 2, 3, 2, 6, 6, 4, 4, 5, 9, 7],\n",
    "                                    [6, 0, 8, 3, 2, 6, 8, 4, 8, 8, 13, 7, 5, 8, 12, 10, 14],\n",
    "                                    [9, 8, 0, 11, 10, 6, 3, 9, 5, 8, 4, 15, 14, 13, 9, 18, 9],\n",
    "                                    [8, 3, 11, 0, 1, 7, 10, 6, 10, 10, 14, 6, 7, 9, 14, 6, 16],\n",
    "                                    [7, 2, 10, 1, 0, 6, 9, 4, 8, 9, 13, 4, 6, 8, 12, 8, 14],\n",
    "                                    [3, 6, 6, 7, 6, 0, 2, 3, 2, 2, 7, 9, 7, 7, 6, 12, 8],\n",
    "                                    [6, 8, 3, 10, 9, 2, 0, 6, 2, 5, 4, 12, 10, 10, 6, 15, 5],\n",
    "                                    [2, 4, 9, 6, 4, 3, 6, 0, 4, 4, 8, 5, 4, 3, 7, 8, 10],\n",
    "                                    [3, 8, 5, 10, 8, 2, 2, 4, 0, 3, 4, 9, 8, 7, 3, 13, 6],\n",
    "                                    [2, 8, 8, 10, 9, 2, 5, 4, 3, 0, 4, 6, 5, 4, 3, 9, 5],\n",
    "                                    [6, 13, 4, 14, 13, 7, 4, 8, 4, 4, 0, 10, 9, 8, 4, 13, 4],\n",
    "                                    [6, 7, 15, 6, 4, 9, 12, 5, 9, 6, 10, 0, 1, 3, 7, 3, 10],\n",
    "                                    [4, 5, 14, 7, 6, 7, 10, 4, 8, 5, 9, 1, 0, 2, 6, 4, 8],\n",
    "                                    [4, 8, 13, 9, 8, 7, 10, 3, 7, 4, 8, 3, 2, 0, 4, 5, 6],\n",
    "                                    [5, 12, 9, 14, 12, 6, 6, 7, 3, 3, 4, 7, 6, 4, 0, 9, 2],\n",
    "                                    [9, 10, 18, 6, 8, 12, 15, 8, 13, 9, 13, 3, 4, 5, 9, 0, 9],\n",
    "                                    [7, 14, 9, 16, 14, 8, 5, 10, 6, 5, 4, 10, 8, 6, 2, 9, 0] ])\n",
    "    # each tuple represents the time window (beginning, end) for each location\n",
    "    # starting from loc 0 (depot) to loc 16\n",
    "    data['time_windows'] = [(0, 60), \n",
    "                            (6, 14), \n",
    "                            (8, 16), \n",
    "                            (15, 22), \n",
    "                            (9, 15), \n",
    "                            (0, 8), \n",
    "                            (5, 20), \n",
    "                            (0, 12), \n",
    "                            (5, 10), \n",
    "                            (0, 6), \n",
    "                            (15, 25), \n",
    "                            (12, 20), \n",
    "                            (0, 7), \n",
    "                            (5, 15), \n",
    "                            (6, 12), \n",
    "                            (10, 20), \n",
    "                            (15, 28) ]  # cannot be np array (?)\n",
    "    \n",
    "    data['wait_times'] = [0, 2, 0, 1, 2, 2, 1, 1, 2, 2, 0, 2, 2, 0, 2, 1, 1]  # cannot be np array (?)\n",
    "    \n",
    "    data['demands'] = [0, 1, 1, 2, 4, 2, 4, 8, 8, 1, 2, 1, 2, 4, 4, 8, 8]\n",
    "    \n",
    "    data['vehicle_capacities'] = [25, 20, 15, 25, 15, 20, 20, 15]\n",
    "    \n",
    "    data['num_vehicles'] = 8\n",
    "    \n",
    "    data['depot'] = 0\n",
    "    \n",
    "    return data"
   ]
  },
  {
   "cell_type": "code",
   "execution_count": 90,
   "metadata": {},
   "outputs": [],
   "source": [
    "data = cvrp_tw_data_model()"
   ]
  },
  {
   "cell_type": "markdown",
   "metadata": {},
   "source": [
    "<br> Create the manager and model as before. For this example, the solution is driven again by a time matrix because of the time window constraints."
   ]
  },
  {
   "cell_type": "code",
   "execution_count": 91,
   "metadata": {},
   "outputs": [],
   "source": [
    "# Create the routing index manager.\n",
    "manager = pywrapcp.RoutingIndexManager(data.get('distance_matrix').shape[0],  # use the time matrix\n",
    "                                       data.get('num_vehicles'), \n",
    "                                       data.get('depot'))\n",
    "\n",
    "# Create Routing Model.\n",
    "routing = pywrapcp.RoutingModel(manager)"
   ]
  },
  {
   "cell_type": "markdown",
   "metadata": {},
   "source": [
    "<br> The time callback is also defined the same as in the VRPTW problem:"
   ]
  },
  {
   "cell_type": "code",
   "execution_count": 92,
   "metadata": {},
   "outputs": [],
   "source": [
    "def distance_callback(from_index, to_index):\n",
    "    \"\"\"Returns the distance between the two nodes.\"\"\"\n",
    "    # Convert from routing variable Index to distance matrix NodeIndex.\n",
    "    from_node = manager.IndexToNode(from_index)\n",
    "    to_node = manager.IndexToNode(to_index)\n",
    "    return data.get('distance_matrix')[from_node, to_node]\n",
    "\n",
    "# Register transit callback and define cost of each arc.\n",
    "distance_callback_index = routing.RegisterTransitCallback(distance_callback)\n",
    "\n",
    "# Objective function\n",
    "routing.SetArcCostEvaluatorOfAllVehicles(distance_callback_index)"
   ]
  },
  {
   "cell_type": "code",
   "execution_count": 93,
   "metadata": {},
   "outputs": [],
   "source": [
    "def time_callback(from_index, to_index):\n",
    "    \"\"\"Returns the travel time between the two nodes.\"\"\"\n",
    "    # Convert from routing variable Index to time matrix NodeIndex.\n",
    "    from_node = manager.IndexToNode(from_index)\n",
    "    to_node = manager.IndexToNode(to_index)\n",
    "    return data.get('time_matrix')[from_node, to_node] + data.get('wait_times')[from_node]\n",
    "\n",
    "time_callback_index = routing.RegisterTransitCallback(time_callback)\n",
    "\n",
    "# Define cost of each arc.\n",
    "# routing.SetArcCostEvaluatorOfAllVehicles(transit_callback_index)"
   ]
  },
  {
   "cell_type": "markdown",
   "metadata": {},
   "source": [
    "<br> Again, define the time constraints. In this example, the waiting time and maximum time are increased to make it easier to find feasible solutions:"
   ]
  },
  {
   "cell_type": "code",
   "execution_count": 94,
   "metadata": {},
   "outputs": [],
   "source": [
    "time = 'Time'\n",
    "\n",
    "routing.AddDimension(time_callback_index, \n",
    "                     0,  # allow waiting time\n",
    "                     45,  # maximum time per vehicle\n",
    "                     False,  # Don't force start cumul to zero.\n",
    "                     time)\n",
    "\n",
    "time_dimension = routing.GetDimensionOrDie(time)\n",
    "\n",
    "# Add time window constraints for each location except depot.\n",
    "for location_idx, time_window in enumerate(data.get('time_windows')):\n",
    "    if location_idx == 0:\n",
    "        continue\n",
    "    index = manager.NodeToIndex(location_idx)\n",
    "    time_dimension.CumulVar(index).SetRange(time_window[0], time_window[1])\n",
    "    \n",
    "\n",
    "dist = 'Distance'\n",
    "\n",
    "routing.AddDimension(distance_callback_index, \n",
    "                     0,  # allow slack\n",
    "                     1600,  # maximum dist per vehicle\n",
    "                     True,  # Don't force start cumul to zero.\n",
    "                     dist)\n",
    "\n",
    "distance_dimension = routing.GetDimensionOrDie(dist)"
   ]
  },
  {
   "cell_type": "markdown",
   "metadata": {},
   "source": [
    "<br> Next, add the demand callback as in the CVRP problem and define the capacity dimension."
   ]
  },
  {
   "cell_type": "code",
   "execution_count": 95,
   "metadata": {},
   "outputs": [],
   "source": [
    "# Add Capacity constraint.\n",
    "def demand_callback(from_index):\n",
    "    \"\"\"Returns the demand of the node.\"\"\"\n",
    "    # Convert from routing variable Index to demands NodeIndex.\n",
    "    from_node = manager.IndexToNode(from_index)\n",
    "    return data.get('demands')[from_node]\n",
    "\n",
    "# Register capacity callback\n",
    "demand_callback_index = routing.RegisterUnaryTransitCallback(demand_callback)"
   ]
  },
  {
   "cell_type": "code",
   "execution_count": 96,
   "metadata": {},
   "outputs": [
    {
     "data": {
      "text/plain": [
       "True"
      ]
     },
     "execution_count": 96,
     "metadata": {},
     "output_type": "execute_result"
    }
   ],
   "source": [
    "routing.AddDimensionWithVehicleCapacity(demand_callback_index, \n",
    "                                        0, # null capacity slack\n",
    "                                        data.get('vehicle_capacities'), # vehicle maximum capacities\n",
    "                                        True, # start cumul to zero\n",
    "                                        'Capacity')"
   ]
  },
  {
   "cell_type": "markdown",
   "metadata": {},
   "source": [
    "<br> As before, instantiate route start and end times to get feasible routes that satisfy the time constraints:"
   ]
  },
  {
   "cell_type": "code",
   "execution_count": 97,
   "metadata": {},
   "outputs": [],
   "source": [
    "for i in range(data['num_vehicles']):\n",
    "    routing.AddVariableMinimizedByFinalizer(\n",
    "        time_dimension.CumulVar(routing.Start(i)))\n",
    "    routing.AddVariableMinimizedByFinalizer(\n",
    "        time_dimension.CumulVar(routing.End(i)))"
   ]
  },
  {
   "cell_type": "markdown",
   "metadata": {},
   "source": [
    "<br> Initialize the search heuristic:"
   ]
  },
  {
   "cell_type": "code",
   "execution_count": 98,
   "metadata": {},
   "outputs": [],
   "source": [
    "search_parameters = pywrapcp.DefaultRoutingSearchParameters()\n",
    "search_parameters.first_solution_strategy = (routing_enums_pb2.FirstSolutionStrategy.PATH_CHEAPEST_ARC)\n",
    "# search_parameters.local_search_metaheuristic = (\n",
    "#     routing_enums_pb2.LocalSearchMetaheuristic.GUIDED_LOCAL_SEARCH)\n",
    "search_parameters.time_limit.seconds = 15\n",
    "search_parameters.log_search = True"
   ]
  },
  {
   "cell_type": "markdown",
   "metadata": {},
   "source": [
    "<br> Define the print function. The two print functions below are simply copies of the functions used in the CRVP and VRPTW models above, with the CVRP function just slightly modified to remove the distance output (since this model uses travel time which is already output by the first function). Of course, the two print functions can be merged into one but here they are kept separate to make things easy."
   ]
  },
  {
   "cell_type": "code",
   "execution_count": 99,
   "metadata": {},
   "outputs": [],
   "source": [
    "def print_tw_solution(data, manager, routing, solution):\n",
    "    \"\"\"Prints solution on console.\"\"\"\n",
    "    time_dimension = routing.GetDimensionOrDie('Time')\n",
    "    dist_dimension = routing.GetDimensionOrDie('Distance')\n",
    "    total_time = 0\n",
    "    total_dist = 0\n",
    "    for vehicle_id in range(data['num_vehicles']):\n",
    "        index = routing.Start(vehicle_id)\n",
    "        plan_output = 'Route for vehicle {}:\\n'.format(vehicle_id)\n",
    "        while not routing.IsEnd(index):\n",
    "            time_var = time_dimension.CumulVar(index)\n",
    "            dist_var = dist_dimension.CumulVar(index)\n",
    "            plan_output += '{0} Time({1},{2}) Dist({3})-> '.format(\n",
    "                manager.IndexToNode(index), solution.Min(time_var),\n",
    "                solution.Max(time_var), solution.Value(dist_var))\n",
    "            index = solution.Value(routing.NextVar(index))\n",
    "        time_var = time_dimension.CumulVar(index)\n",
    "        plan_output += '{0} Time({1},{2}) Dist({3})\\n'.format(manager.IndexToNode(index),\n",
    "                                                    solution.Min(time_var),\n",
    "                                                    solution.Max(time_var), \n",
    "                                                    solution.Value(dist_var))\n",
    "        plan_output += 'Time of the route: {}min\\n'.format(\n",
    "            solution.Min(time_var))\n",
    "        plan_output += 'Route distance: {}m\\n'.format(\n",
    "            solution.Value(dist_var))\n",
    "        print(plan_output)\n",
    "        total_time += solution.Min(time_var)\n",
    "        total_dist += solution.Value(dist_var)\n",
    "    print(f'Total time of all routes: {total_time}min', \n",
    "          f'\\nTotal distance of all routes: {total_dist}m')\n",
    "\n",
    "    \n",
    "def print_load_solution(data, manager, routing, solution):\n",
    "    total_load = 0\n",
    "    for vehicle_id in range(data['num_vehicles']):\n",
    "        index = routing.Start(vehicle_id)\n",
    "        plan_output = 'Route for vehicle {}:\\n'.format(vehicle_id)\n",
    "        route_load = 0\n",
    "        while not routing.IsEnd(index):\n",
    "            node_index = manager.IndexToNode(index)\n",
    "            route_load += data['demands'][node_index]\n",
    "            plan_output += ' {0} Load({1}) -> '.format(node_index, route_load)\n",
    "            previous_index = index\n",
    "            index = solution.Value(routing.NextVar(index))\n",
    "        plan_output += ' {0} Load({1})\\n'.format(manager.IndexToNode(index),\n",
    "                                                 route_load)\n",
    "        plan_output += 'Load of the route: {}\\n'.format(route_load)\n",
    "        print(plan_output)\n",
    "        total_load += route_load\n",
    "    print('Total load of all routes: {}'.format(total_load))"
   ]
  },
  {
   "cell_type": "markdown",
   "metadata": {},
   "source": [
    "<br> Finally, solve the problem and inspect the output!"
   ]
  },
  {
   "cell_type": "code",
   "execution_count": 100,
   "metadata": {
    "scrolled": true,
    "tags": []
   },
   "outputs": [
    {
     "name": "stderr",
     "output_type": "stream",
     "text": [
      "WARNING: Logging before InitGoogleLogging() is written to STDERR\n",
      "I1016 15:34:50.899307 691499 search.cc:264] Start search (memory used = 1285.83 MB)\n",
      "I1016 15:34:50.899423 691499 search.cc:264] Root node processed (time = 0 ms, constraints = 279, memory used = 1285.83 MB)\n",
      "I1016 15:34:50.900390 691499 search.cc:264] Solution #0 (8856, time = 1 ms, branches = 41, failures = 1, depth = 33, memory used = 1285.83 MB, limit = 0%)\n",
      "I1016 15:34:50.901578 691499 search.cc:264] Solution #1 (8696, objective maximum = 8856, time = 2 ms, branches = 51, failures = 3, depth = 33, Relocate<1>, neighbors = 211, filtered neighbors = 1, accepted neighbors = 1, memory used = 1285.83 MB, limit = 0%)\n",
      "I1016 15:34:50.902017 691499 search.cc:264] Solution #2 (8240, objective maximum = 8856, time = 2 ms, branches = 62, failures = 6, depth = 33, Relocate<1>, neighbors = 235, filtered neighbors = 3, accepted neighbors = 2, memory used = 1285.83 MB, limit = 0%)\n",
      "I1016 15:34:50.902326 691499 search.cc:264] Solution #3 (8080, objective maximum = 8856, time = 2 ms, branches = 73, failures = 8, depth = 33, Relocate<1>, neighbors = 251, filtered neighbors = 4, accepted neighbors = 3, memory used = 1285.83 MB, limit = 0%)\n",
      "I1016 15:34:50.902592 691499 search.cc:264] Solution #4 (7692, objective maximum = 8856, time = 3 ms, branches = 86, failures = 10, depth = 33, Relocate<1>, neighbors = 256, filtered neighbors = 5, accepted neighbors = 4, memory used = 1285.83 MB, limit = 0%)\n",
      "I1016 15:34:50.902870 691499 search.cc:264] Solution #5 (7532, objective maximum = 8856, time = 3 ms, branches = 96, failures = 12, depth = 33, Relocate<1>, neighbors = 267, filtered neighbors = 6, accepted neighbors = 5, memory used = 1285.83 MB, limit = 0%)\n",
      "I1016 15:34:50.904097 691499 search.cc:264] Solution #6 (7464, objective maximum = 8856, time = 4 ms, branches = 107, failures = 14, depth = 33, Exchange, neighbors = 662, filtered neighbors = 7, accepted neighbors = 6, memory used = 1285.83 MB, limit = 0%)\n",
      "I1016 15:34:50.909967 691499 search.cc:264] Finished search tree (time = 10 ms, branches = 140, failures = 48, neighbors = 2117, filtered neighbors = 7, accepted neigbors = 6, memory used = 1285.83 MB)\n",
      "I1016 15:34:50.909993 691499 search.cc:264] End search (time = 10 ms, branches = 140, failures = 48, memory used = 1285.83 MB, speed = 14000 branches/s)\n"
     ]
    }
   ],
   "source": [
    "solution = routing.SolveWithParameters(search_parameters)"
   ]
  },
  {
   "cell_type": "code",
   "execution_count": 101,
   "metadata": {
    "tags": []
   },
   "outputs": [
    {
     "data": {
      "text/plain": [
       "1"
      ]
     },
     "execution_count": 101,
     "metadata": {},
     "output_type": "execute_result"
    }
   ],
   "source": [
    "routing.status()"
   ]
  },
  {
   "cell_type": "code",
   "execution_count": 102,
   "metadata": {},
   "outputs": [
    {
     "name": "stdout",
     "output_type": "stream",
     "text": [
      "Route for vehicle 0:\n",
      "0 Time(0,0) Dist(0)-> 0 Time(0,0) Dist(0)\n",
      "Time of the route: 0min\n",
      "Route distance: 0m\n",
      "\n",
      "Route for vehicle 1:\n",
      "0 Time(0,0) Dist(0)-> 0 Time(0,0) Dist(0)\n",
      "Time of the route: 0min\n",
      "Route distance: 0m\n",
      "\n",
      "Route for vehicle 2:\n",
      "0 Time(2,2) Dist(0)-> 8 Time(5,5) Dist(308)-> 6 Time(9,9) Dist(502)-> 2 Time(13,13) Dist(776)-> 0 Time(22,22) Dist(776)\n",
      "Time of the route: 22min\n",
      "Route distance: 776m\n",
      "\n",
      "Route for vehicle 3:\n",
      "0 Time(1,1) Dist(0)-> 7 Time(3,3) Dist(194)-> 1 Time(8,8) Dist(548)-> 4 Time(12,12) Dist(742)-> 3 Time(15,15) Dist(856)-> 0 Time(24,24) Dist(856)\n",
      "Time of the route: 24min\n",
      "Route distance: 856m\n",
      "\n",
      "Route for vehicle 4:\n",
      "0 Time(4,4) Dist(0)-> 9 Time(6,6) Dist(194)-> 14 Time(11,11) Dist(468)-> 16 Time(15,15) Dist(662)-> 10 Time(20,20) Dist(1016)-> 0 Time(26,26) Dist(1016)\n",
      "Time of the route: 26min\n",
      "Route distance: 1016m\n",
      "\n",
      "Route for vehicle 5:\n",
      "0 Time(0,0) Dist(0)-> 12 Time(4,4) Dist(388)-> 15 Time(10,10) Dist(776)-> 11 Time(14,14) Dist(1050)-> 0 Time(22,22) Dist(1050)\n",
      "Time of the route: 22min\n",
      "Route distance: 1050m\n",
      "\n",
      "Route for vehicle 6:\n",
      "0 Time(1,1) Dist(0)-> 13 Time(5,5) Dist(354)-> 0 Time(9,9) Dist(354)\n",
      "Time of the route: 9min\n",
      "Route distance: 354m\n",
      "\n",
      "Route for vehicle 7:\n",
      "0 Time(0,0) Dist(0)-> 5 Time(3,3) Dist(274)-> 0 Time(8,8) Dist(274)\n",
      "Time of the route: 8min\n",
      "Route distance: 274m\n",
      "\n",
      "Total time of all routes: 111min \n",
      "Total distance of all routes: 4326m\n",
      "\n",
      "==================================================================================================== \n",
      "\n",
      "Route for vehicle 0:\n",
      " 0 Load(0) ->  0 Load(0)\n",
      "Load of the route: 0\n",
      "\n",
      "Route for vehicle 1:\n",
      " 0 Load(0) ->  0 Load(0)\n",
      "Load of the route: 0\n",
      "\n",
      "Route for vehicle 2:\n",
      " 0 Load(0) ->  8 Load(8) ->  6 Load(12) ->  2 Load(13) ->  0 Load(13)\n",
      "Load of the route: 13\n",
      "\n",
      "Route for vehicle 3:\n",
      " 0 Load(0) ->  7 Load(8) ->  1 Load(9) ->  4 Load(13) ->  3 Load(15) ->  0 Load(15)\n",
      "Load of the route: 15\n",
      "\n",
      "Route for vehicle 4:\n",
      " 0 Load(0) ->  9 Load(1) ->  14 Load(5) ->  16 Load(13) ->  10 Load(15) ->  0 Load(15)\n",
      "Load of the route: 15\n",
      "\n",
      "Route for vehicle 5:\n",
      " 0 Load(0) ->  12 Load(2) ->  15 Load(10) ->  11 Load(11) ->  0 Load(11)\n",
      "Load of the route: 11\n",
      "\n",
      "Route for vehicle 6:\n",
      " 0 Load(0) ->  13 Load(4) ->  0 Load(4)\n",
      "Load of the route: 4\n",
      "\n",
      "Route for vehicle 7:\n",
      " 0 Load(0) ->  5 Load(2) ->  0 Load(2)\n",
      "Load of the route: 2\n",
      "\n",
      "Total load of all routes: 60\n"
     ]
    }
   ],
   "source": [
    "# store and print the results\n",
    "if solution:\n",
    "    print_tw_solution(data, manager, routing, solution)\n",
    "    print('\\n'+'='*100,'\\n')\n",
    "    print_load_solution(data, manager, routing, solution)"
   ]
  },
  {
   "cell_type": "code",
   "execution_count": null,
   "metadata": {},
   "outputs": [],
   "source": []
  }
 ],
 "metadata": {
  "kernelspec": {
   "display_name": "Python 3 (ipykernel)",
   "language": "python",
   "name": "python3"
  },
  "language_info": {
   "codemirror_mode": {
    "name": "ipython",
    "version": 3
   },
   "file_extension": ".py",
   "mimetype": "text/x-python",
   "name": "python",
   "nbconvert_exporter": "python",
   "pygments_lexer": "ipython3",
   "version": "3.8.5"
  }
 },
 "nbformat": 4,
 "nbformat_minor": 4
}
